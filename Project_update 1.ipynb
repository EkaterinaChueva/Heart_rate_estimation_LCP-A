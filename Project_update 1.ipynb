{
 "cells": [
  {
   "cell_type": "markdown",
   "metadata": {
    "id": "20jVoS6AJYGP"
   },
   "source": [
    "# HEART RATE ESTIMATION\n",
    "\n",
    "Seismocardiography([SCG](https://www.ncbi.nlm.nih.gov/pubmed/24111357)) is a very promising technique to measure Heart Rate (HR) and Respiratory Rate (RR) with the detector positioned above sternum. It is generally based on accelerometer and gyroscope readings or a combination of them. \n",
    "\n",
    "Ballistocardiography([BCG](https://en.wikipedia.org/wiki/Ballistocardiography)) is an another technique to estimate heart and respiratory rate with combination of both accelerometer and gyroscope. It is an indirect evaluation of HR and RR since the contact between the device and the body of the subject is not required (e.g., accelerometer platform mounted under the slats of the bed).   \n",
    "  \n",
    "MuSe(Multi-Sensor miniaturized, low-power, wireless [IMU](https://en.wikipedia.org/wiki/Inertial_measurement_unit)) is an Inertial Measurement Unit (IMU) provide by [221e](https://www.221e.com). In the context of this project, It allows to record the inertial data necessary for the estimation of SCG and BCG.\n",
    "\n",
    "The goal of this assignment is to estimate the heart rate of an healthy subject, given linear acceleration and angular velocity measurements recorded by using the aforementioned MuSe platform. \n",
    "The study must be performed on two datasets: the first is the compulsory one (**center_sternum.txt**) while the second is left at the discretion of the group, among those made available for the assignment.\n",
    "\n",
    "**N.B: Remember that normal beat is around [40-100] bpm.**\n",
    "\n",
    "\n",
    "## Dataset\n",
    "\n",
    "The data is provided in .txt file. During this study two healthy subjects were involved with their informed consent. The first dataset was recorded on one subject, while all the other datasets were recorded on the second subject. \n",
    "\n",
    "This is the first mandatory file:\n",
    "\n",
    "* **center_sternum.txt**: MuSe placed on the center of the sternum. The subject was lying supine on his left and right side, respectively. \n",
    "\n",
    "\n",
    "Choose one of the following files in order to complete the task.\n",
    "\n",
    "1. **1_Stave_supine_static.txt**: Sensor placed on a bed stave, under the mattress at the level of the chest. The subject was lying supine on his left and right side. \n",
    "* **2_Mattress_supine.txt**: Sensor placed on the mattress, near one corner but not under the pillow. The subject laid in the same position as above. \n",
    "* **3_Subject_sitting_chair.txt**: Sensor placed on the desk: the subject, sitting on a chair, leaned forearms and hands on the desk. \n",
    "* **4_Chest_sweater.txt**: Sensor placed on the subject chest directly on a sweater. \n",
    "* **5_Under_chair.txt**: Subject sitting on a chair, sensor placed under the seat of the chair. \n",
    "\n",
    "All .txt files give 16 columns index, in particular: \n",
    "\n",
    "* Log Freq stands for the acquisition  in Hz (i.e., sampling interval is constant).\n",
    "* AccX, AccY, AccZ are the measured magnitude of linear acceleration along each axis.\n",
    "* GyroX, GyroY, GyroZ are the measured magnitude of angular velocity along each axis.\n",
    "* MagnX, MagnY, MagnZ are the measured magnitude of magnetic field along each axis.\n",
    "* qw, qi, qj, qk are the quaternion components, representing the spatial orientation of the Muse system.\n",
    "\n",
    "Each dataset includes, in addition to the data, one file containing the adopted configuration of the MuSe(**README1.txt** for the first measurement, and in **README_5.txt** for the other measurement).\n",
    " \n",
    "\n",
    "\n",
    "## Assignment\n",
    "\n",
    "\n",
    "\n",
    "1. Data preparation:\n",
    "\n",
    "    1.1. Load the txt file and select only the columns you are interesting in, in order to do a complete data analysis (e.g. Log Freq, AccX, ... )\n",
    "    \n",
    "    1.2. Plot selected data in function of time and choose a properly time window over which to perform the analysis. Pay attention on time rappresentation and the measurament unit.\n",
    "    \n",
    "    1.3. In order to make an appropiate work, decide if take care about some particular axis or some combination of them as well as derived features for the next step of the task. Motivate your choice.  \n",
    "\n",
    "\n",
    "    \n",
    "2. Time and frequency analysis:\n",
    "\n",
    "    2.1. Statistical analysis: provide a statistical description of the chosen dataset. Statistical descriptors includes for example mean, median, variance, standard deviation, 25th and 75th percentiles, and correlation coefficients. Investigate what could be the most interesting descriptors for this type of data, motivating the choices.\n",
    "    \n",
    "    2.2. Fourier Analysis: Perform a frequency analysis of the data. Look at the spectrum and explain what you see. Use this step in order to properly design the filters in the following step. \n",
    "\n",
    "\n",
    "\n",
    "3. Filter:\n",
    "    \n",
    "    Implement your own filter, trying to extrapolate heart rate signal. Hint:\n",
    "    \n",
    "    (a) Directly from Fourier Analysis, antitrasform data looking for the most interesting frequency band.\n",
    "    \n",
    "    (b) Choose the appropriate Lowpass/Bandpass/Highpass filter.\n",
    "    \n",
    "    (c) Wavelet trasform (a powerfull instrument that make a time and frequency analysis of signal).\n",
    "    \n",
    "    (d) Find another method by yourselves.\n",
    "    \n",
    "    Motivate your choice.\n",
    "    \n",
    "    \n",
    "4. Metrics:\n",
    "\n",
    "    4.1. Heart Beat Per Minute(BPM): extrapolate BPM, make an histogram of the result. Does it follow a partiular distribution? \n",
    "    \n",
    "    4.2. Heart Rate Variability(HRV): extrapolate HRV, explain why this parameter is important, and plot the results.\n",
    "\n",
    "\n",
    "\n",
    "5. (OPTIONAL) Algorithm: Elaborate a simple algorithm to extrapolate heart beat even when filter failed (e.g. look at particular threshold...).  \n",
    "\n",
    "\n",
    "\n",
    "6. Conclusion: \n",
    "\n",
    "    Summarise the obtained results, in particular making a comparison between the two files analysed. Highlight limitation and critical issues encountered during the work, motivating the most relevant contribution given by your solution.\n",
    "\n",
    "\n",
    "\n",
    "\n",
    "**N.B: Indicate the contribution, to achieving the result, of each member of the group.**\n"
   ]
  },
  {
   "cell_type": "markdown",
   "metadata": {
    "id": "8IIQFEjcJYGQ"
   },
   "source": [
    "Data preparation:\n",
    "\n",
    "1.1. Load the txt file and select only the columns you are interesting in, in order to do a complete data analysis (e.g. Log Freq, AccX, ... )\n",
    "\n",
    "1.2. Plot selected data in function of time and choose a properly time window over which to perform the analysis. Pay attention on time rappresentation and the measurament unit.\n",
    "\n",
    "1.3. In order to make an appropiate work, decide if take care about some particular axis or some combination of them as well as derived features for the next step of the task. Motivate your choice."
   ]
  },
  {
   "cell_type": "code",
   "execution_count": 1,
   "metadata": {
    "id": "yW2EH7W9JYGR"
   },
   "outputs": [],
   "source": [
    "import pandas as pd\n",
    "import numpy as np\n",
    "import matplotlib.pyplot as plt\n",
    "import seaborn as sns"
   ]
  },
  {
   "cell_type": "code",
   "execution_count": 2,
   "metadata": {
    "id": "WZmi7GgoJYGR",
    "outputId": "f164c565-ec7d-4bd4-b4ea-75494838a6c8"
   },
   "outputs": [
    {
     "data": {
      "text/html": [
       "<div>\n",
       "<style scoped>\n",
       "    .dataframe tbody tr th:only-of-type {\n",
       "        vertical-align: middle;\n",
       "    }\n",
       "\n",
       "    .dataframe tbody tr th {\n",
       "        vertical-align: top;\n",
       "    }\n",
       "\n",
       "    .dataframe thead th {\n",
       "        text-align: right;\n",
       "    }\n",
       "</style>\n",
       "<table border=\"1\" class=\"dataframe\">\n",
       "  <thead>\n",
       "    <tr style=\"text-align: right;\">\n",
       "      <th></th>\n",
       "      <th>Log Mode</th>\n",
       "      <th>Log Freq</th>\n",
       "      <th>Timestamp</th>\n",
       "      <th>AccX</th>\n",
       "      <th>AccY</th>\n",
       "      <th>AccZ</th>\n",
       "      <th>GyroX</th>\n",
       "      <th>GyroY</th>\n",
       "      <th>GyroZ</th>\n",
       "      <th>MagnX</th>\n",
       "      <th>MagnY</th>\n",
       "      <th>MagnZ</th>\n",
       "      <th>qw</th>\n",
       "      <th>qi</th>\n",
       "      <th>qj</th>\n",
       "      <th>qk</th>\n",
       "    </tr>\n",
       "  </thead>\n",
       "  <tbody>\n",
       "    <tr>\n",
       "      <th>0</th>\n",
       "      <td>5</td>\n",
       "      <td>200</td>\n",
       "      <td>1576222772</td>\n",
       "      <td>947.086</td>\n",
       "      <td>435.662</td>\n",
       "      <td>70.638</td>\n",
       "      <td>-6.824428</td>\n",
       "      <td>-14.244280</td>\n",
       "      <td>1.404580</td>\n",
       "      <td>-454</td>\n",
       "      <td>-490</td>\n",
       "      <td>-178</td>\n",
       "      <td>0.792622</td>\n",
       "      <td>0.254952</td>\n",
       "      <td>-0.553850</td>\n",
       "      <td>-0.000031</td>\n",
       "    </tr>\n",
       "    <tr>\n",
       "      <th>1</th>\n",
       "      <td>5</td>\n",
       "      <td>200</td>\n",
       "      <td>1576222772</td>\n",
       "      <td>969.168</td>\n",
       "      <td>387.777</td>\n",
       "      <td>88.877</td>\n",
       "      <td>6.183206</td>\n",
       "      <td>-12.290080</td>\n",
       "      <td>-7.969466</td>\n",
       "      <td>-454</td>\n",
       "      <td>-490</td>\n",
       "      <td>-177</td>\n",
       "      <td>0.736461</td>\n",
       "      <td>0.275124</td>\n",
       "      <td>-0.617969</td>\n",
       "      <td>0.006806</td>\n",
       "    </tr>\n",
       "    <tr>\n",
       "      <th>2</th>\n",
       "      <td>5</td>\n",
       "      <td>200</td>\n",
       "      <td>1576222772</td>\n",
       "      <td>989.603</td>\n",
       "      <td>380.335</td>\n",
       "      <td>78.751</td>\n",
       "      <td>11.709920</td>\n",
       "      <td>-4.961832</td>\n",
       "      <td>-7.450382</td>\n",
       "      <td>-454</td>\n",
       "      <td>-490</td>\n",
       "      <td>-177</td>\n",
       "      <td>0.729465</td>\n",
       "      <td>0.275246</td>\n",
       "      <td>-0.626118</td>\n",
       "      <td>0.009827</td>\n",
       "    </tr>\n",
       "    <tr>\n",
       "      <th>3</th>\n",
       "      <td>5</td>\n",
       "      <td>200</td>\n",
       "      <td>1576222772</td>\n",
       "      <td>954.894</td>\n",
       "      <td>418.033</td>\n",
       "      <td>88.328</td>\n",
       "      <td>17.877860</td>\n",
       "      <td>2.519084</td>\n",
       "      <td>-5.984733</td>\n",
       "      <td>-454</td>\n",
       "      <td>-492</td>\n",
       "      <td>-176</td>\n",
       "      <td>0.723413</td>\n",
       "      <td>0.277200</td>\n",
       "      <td>-0.632221</td>\n",
       "      <td>0.011383</td>\n",
       "    </tr>\n",
       "    <tr>\n",
       "      <th>4</th>\n",
       "      <td>5</td>\n",
       "      <td>200</td>\n",
       "      <td>1576222772</td>\n",
       "      <td>972.096</td>\n",
       "      <td>427.732</td>\n",
       "      <td>99.857</td>\n",
       "      <td>25.221370</td>\n",
       "      <td>5.404580</td>\n",
       "      <td>4.015267</td>\n",
       "      <td>-454</td>\n",
       "      <td>-492</td>\n",
       "      <td>-176</td>\n",
       "      <td>0.721948</td>\n",
       "      <td>0.280007</td>\n",
       "      <td>-0.632679</td>\n",
       "      <td>0.010193</td>\n",
       "    </tr>\n",
       "    <tr>\n",
       "      <th>...</th>\n",
       "      <td>...</td>\n",
       "      <td>...</td>\n",
       "      <td>...</td>\n",
       "      <td>...</td>\n",
       "      <td>...</td>\n",
       "      <td>...</td>\n",
       "      <td>...</td>\n",
       "      <td>...</td>\n",
       "      <td>...</td>\n",
       "      <td>...</td>\n",
       "      <td>...</td>\n",
       "      <td>...</td>\n",
       "      <td>...</td>\n",
       "      <td>...</td>\n",
       "      <td>...</td>\n",
       "      <td>...</td>\n",
       "    </tr>\n",
       "    <tr>\n",
       "      <th>16501</th>\n",
       "      <td>5</td>\n",
       "      <td>200</td>\n",
       "      <td>1576222847</td>\n",
       "      <td>958.493</td>\n",
       "      <td>291.092</td>\n",
       "      <td>-54.290</td>\n",
       "      <td>1.664122</td>\n",
       "      <td>2.305344</td>\n",
       "      <td>-0.671756</td>\n",
       "      <td>-494</td>\n",
       "      <td>-449</td>\n",
       "      <td>-126</td>\n",
       "      <td>0.650810</td>\n",
       "      <td>0.379162</td>\n",
       "      <td>-0.636402</td>\n",
       "      <td>0.166356</td>\n",
       "    </tr>\n",
       "    <tr>\n",
       "      <th>16502</th>\n",
       "      <td>5</td>\n",
       "      <td>200</td>\n",
       "      <td>1576222847</td>\n",
       "      <td>954.650</td>\n",
       "      <td>288.042</td>\n",
       "      <td>-49.654</td>\n",
       "      <td>1.480916</td>\n",
       "      <td>2.488550</td>\n",
       "      <td>-0.702290</td>\n",
       "      <td>-494</td>\n",
       "      <td>-450</td>\n",
       "      <td>-125</td>\n",
       "      <td>0.650239</td>\n",
       "      <td>0.379803</td>\n",
       "      <td>-0.636708</td>\n",
       "      <td>0.165960</td>\n",
       "    </tr>\n",
       "    <tr>\n",
       "      <th>16503</th>\n",
       "      <td>5</td>\n",
       "      <td>200</td>\n",
       "      <td>1576222847</td>\n",
       "      <td>967.338</td>\n",
       "      <td>290.482</td>\n",
       "      <td>-63.867</td>\n",
       "      <td>1.114504</td>\n",
       "      <td>3.374046</td>\n",
       "      <td>-0.900763</td>\n",
       "      <td>-494</td>\n",
       "      <td>-450</td>\n",
       "      <td>-125</td>\n",
       "      <td>0.649365</td>\n",
       "      <td>0.380627</td>\n",
       "      <td>-0.637227</td>\n",
       "      <td>0.165502</td>\n",
       "    </tr>\n",
       "    <tr>\n",
       "      <th>16504</th>\n",
       "      <td>5</td>\n",
       "      <td>200</td>\n",
       "      <td>1576222847</td>\n",
       "      <td>965.630</td>\n",
       "      <td>300.852</td>\n",
       "      <td>-56.242</td>\n",
       "      <td>0.702290</td>\n",
       "      <td>3.664122</td>\n",
       "      <td>-1.587786</td>\n",
       "      <td>-495</td>\n",
       "      <td>-448</td>\n",
       "      <td>-124</td>\n",
       "      <td>0.648973</td>\n",
       "      <td>0.381329</td>\n",
       "      <td>-0.637348</td>\n",
       "      <td>0.164953</td>\n",
       "    </tr>\n",
       "    <tr>\n",
       "      <th>16505</th>\n",
       "      <td>5</td>\n",
       "      <td>200</td>\n",
       "      <td>1576222847</td>\n",
       "      <td>959.957</td>\n",
       "      <td>298.473</td>\n",
       "      <td>-55.998</td>\n",
       "      <td>0.290076</td>\n",
       "      <td>4.061069</td>\n",
       "      <td>-1.343511</td>\n",
       "      <td>-495</td>\n",
       "      <td>-448</td>\n",
       "      <td>-124</td>\n",
       "      <td>0.648462</td>\n",
       "      <td>0.382336</td>\n",
       "      <td>-0.637471</td>\n",
       "      <td>0.164159</td>\n",
       "    </tr>\n",
       "  </tbody>\n",
       "</table>\n",
       "<p>16506 rows × 16 columns</p>\n",
       "</div>"
      ],
      "text/plain": [
       "       Log Mode  Log Freq   Timestamp     AccX     AccY    AccZ      GyroX  \\\n",
       "0             5       200  1576222772  947.086  435.662  70.638  -6.824428   \n",
       "1             5       200  1576222772  969.168  387.777  88.877   6.183206   \n",
       "2             5       200  1576222772  989.603  380.335  78.751  11.709920   \n",
       "3             5       200  1576222772  954.894  418.033  88.328  17.877860   \n",
       "4             5       200  1576222772  972.096  427.732  99.857  25.221370   \n",
       "...         ...       ...         ...      ...      ...     ...        ...   \n",
       "16501         5       200  1576222847  958.493  291.092 -54.290   1.664122   \n",
       "16502         5       200  1576222847  954.650  288.042 -49.654   1.480916   \n",
       "16503         5       200  1576222847  967.338  290.482 -63.867   1.114504   \n",
       "16504         5       200  1576222847  965.630  300.852 -56.242   0.702290   \n",
       "16505         5       200  1576222847  959.957  298.473 -55.998   0.290076   \n",
       "\n",
       "           GyroY     GyroZ  MagnX  MagnY  MagnZ        qw        qi        qj  \\\n",
       "0     -14.244280  1.404580   -454   -490   -178  0.792622  0.254952 -0.553850   \n",
       "1     -12.290080 -7.969466   -454   -490   -177  0.736461  0.275124 -0.617969   \n",
       "2      -4.961832 -7.450382   -454   -490   -177  0.729465  0.275246 -0.626118   \n",
       "3       2.519084 -5.984733   -454   -492   -176  0.723413  0.277200 -0.632221   \n",
       "4       5.404580  4.015267   -454   -492   -176  0.721948  0.280007 -0.632679   \n",
       "...          ...       ...    ...    ...    ...       ...       ...       ...   \n",
       "16501   2.305344 -0.671756   -494   -449   -126  0.650810  0.379162 -0.636402   \n",
       "16502   2.488550 -0.702290   -494   -450   -125  0.650239  0.379803 -0.636708   \n",
       "16503   3.374046 -0.900763   -494   -450   -125  0.649365  0.380627 -0.637227   \n",
       "16504   3.664122 -1.587786   -495   -448   -124  0.648973  0.381329 -0.637348   \n",
       "16505   4.061069 -1.343511   -495   -448   -124  0.648462  0.382336 -0.637471   \n",
       "\n",
       "             qk  \n",
       "0     -0.000031  \n",
       "1      0.006806  \n",
       "2      0.009827  \n",
       "3      0.011383  \n",
       "4      0.010193  \n",
       "...         ...  \n",
       "16501  0.166356  \n",
       "16502  0.165960  \n",
       "16503  0.165502  \n",
       "16504  0.164953  \n",
       "16505  0.164159  \n",
       "\n",
       "[16506 rows x 16 columns]"
      ]
     },
     "metadata": {},
     "output_type": "display_data"
    },
    {
     "data": {
      "text/html": [
       "<div>\n",
       "<style scoped>\n",
       "    .dataframe tbody tr th:only-of-type {\n",
       "        vertical-align: middle;\n",
       "    }\n",
       "\n",
       "    .dataframe tbody tr th {\n",
       "        vertical-align: top;\n",
       "    }\n",
       "\n",
       "    .dataframe thead th {\n",
       "        text-align: right;\n",
       "    }\n",
       "</style>\n",
       "<table border=\"1\" class=\"dataframe\">\n",
       "  <thead>\n",
       "    <tr style=\"text-align: right;\">\n",
       "      <th></th>\n",
       "      <th>Log Mode</th>\n",
       "      <th>Log Freq</th>\n",
       "      <th>Timestamp</th>\n",
       "      <th>AccX</th>\n",
       "      <th>AccY</th>\n",
       "      <th>AccZ</th>\n",
       "      <th>GyroX</th>\n",
       "      <th>GyroY</th>\n",
       "      <th>GyroZ</th>\n",
       "      <th>MagnX</th>\n",
       "      <th>MagnY</th>\n",
       "      <th>MagnZ</th>\n",
       "      <th>qw</th>\n",
       "      <th>qi</th>\n",
       "      <th>qj</th>\n",
       "      <th>qk</th>\n",
       "    </tr>\n",
       "  </thead>\n",
       "  <tbody>\n",
       "    <tr>\n",
       "      <th>count</th>\n",
       "      <td>16506.0</td>\n",
       "      <td>16506.0</td>\n",
       "      <td>1.650600e+04</td>\n",
       "      <td>16506.000000</td>\n",
       "      <td>16506.000000</td>\n",
       "      <td>16506.000000</td>\n",
       "      <td>16506.000000</td>\n",
       "      <td>16506.000000</td>\n",
       "      <td>16506.000000</td>\n",
       "      <td>16506.000000</td>\n",
       "      <td>16506.000000</td>\n",
       "      <td>16506.000000</td>\n",
       "      <td>16506.000000</td>\n",
       "      <td>16506.000000</td>\n",
       "      <td>16506.000000</td>\n",
       "      <td>16506.000000</td>\n",
       "    </tr>\n",
       "    <tr>\n",
       "      <th>mean</th>\n",
       "      <td>5.0</td>\n",
       "      <td>200.0</td>\n",
       "      <td>1.576223e+09</td>\n",
       "      <td>35.603752</td>\n",
       "      <td>121.754422</td>\n",
       "      <td>-897.001465</td>\n",
       "      <td>-1.885665</td>\n",
       "      <td>3.636535</td>\n",
       "      <td>-0.818354</td>\n",
       "      <td>-231.327881</td>\n",
       "      <td>-432.637405</td>\n",
       "      <td>397.903005</td>\n",
       "      <td>0.063803</td>\n",
       "      <td>0.490530</td>\n",
       "      <td>-0.764329</td>\n",
       "      <td>-0.039947</td>\n",
       "    </tr>\n",
       "    <tr>\n",
       "      <th>std</th>\n",
       "      <td>0.0</td>\n",
       "      <td>0.0</td>\n",
       "      <td>2.189258e+01</td>\n",
       "      <td>232.624330</td>\n",
       "      <td>62.077114</td>\n",
       "      <td>215.230574</td>\n",
       "      <td>13.223364</td>\n",
       "      <td>17.399954</td>\n",
       "      <td>10.595643</td>\n",
       "      <td>67.200320</td>\n",
       "      <td>16.526077</td>\n",
       "      <td>123.871453</td>\n",
       "      <td>0.144073</td>\n",
       "      <td>0.197328</td>\n",
       "      <td>0.326346</td>\n",
       "      <td>0.057694</td>\n",
       "    </tr>\n",
       "    <tr>\n",
       "      <th>min</th>\n",
       "      <td>5.0</td>\n",
       "      <td>200.0</td>\n",
       "      <td>1.576223e+09</td>\n",
       "      <td>-722.118000</td>\n",
       "      <td>-387.838000</td>\n",
       "      <td>-1731.973000</td>\n",
       "      <td>-359.496200</td>\n",
       "      <td>-213.557300</td>\n",
       "      <td>-126.351100</td>\n",
       "      <td>-511.000000</td>\n",
       "      <td>-559.000000</td>\n",
       "      <td>-178.000000</td>\n",
       "      <td>0.004428</td>\n",
       "      <td>-0.622059</td>\n",
       "      <td>-0.892911</td>\n",
       "      <td>-0.096347</td>\n",
       "    </tr>\n",
       "    <tr>\n",
       "      <th>25%</th>\n",
       "      <td>5.0</td>\n",
       "      <td>200.0</td>\n",
       "      <td>1.576223e+09</td>\n",
       "      <td>-35.258000</td>\n",
       "      <td>111.020000</td>\n",
       "      <td>-958.310000</td>\n",
       "      <td>-2.839695</td>\n",
       "      <td>3.206107</td>\n",
       "      <td>-1.175573</td>\n",
       "      <td>-213.000000</td>\n",
       "      <td>-434.000000</td>\n",
       "      <td>427.000000</td>\n",
       "      <td>0.021518</td>\n",
       "      <td>0.493858</td>\n",
       "      <td>-0.859676</td>\n",
       "      <td>-0.060732</td>\n",
       "    </tr>\n",
       "    <tr>\n",
       "      <th>50%</th>\n",
       "      <td>5.0</td>\n",
       "      <td>200.0</td>\n",
       "      <td>1.576223e+09</td>\n",
       "      <td>-29.585000</td>\n",
       "      <td>115.900000</td>\n",
       "      <td>-948.733000</td>\n",
       "      <td>-2.137405</td>\n",
       "      <td>3.664122</td>\n",
       "      <td>-0.854962</td>\n",
       "      <td>-212.000000</td>\n",
       "      <td>-432.000000</td>\n",
       "      <td>429.000000</td>\n",
       "      <td>0.024636</td>\n",
       "      <td>0.529649</td>\n",
       "      <td>-0.836619</td>\n",
       "      <td>-0.059511</td>\n",
       "    </tr>\n",
       "    <tr>\n",
       "      <th>75%</th>\n",
       "      <td>5.0</td>\n",
       "      <td>200.0</td>\n",
       "      <td>1.576223e+09</td>\n",
       "      <td>-22.692000</td>\n",
       "      <td>120.475000</td>\n",
       "      <td>-937.692000</td>\n",
       "      <td>-1.206107</td>\n",
       "      <td>4.213740</td>\n",
       "      <td>-0.549618</td>\n",
       "      <td>-211.000000</td>\n",
       "      <td>-431.000000</td>\n",
       "      <td>433.000000</td>\n",
       "      <td>0.027304</td>\n",
       "      <td>0.564768</td>\n",
       "      <td>-0.813227</td>\n",
       "      <td>-0.057619</td>\n",
       "    </tr>\n",
       "    <tr>\n",
       "      <th>max</th>\n",
       "      <td>5.0</td>\n",
       "      <td>200.0</td>\n",
       "      <td>1.576223e+09</td>\n",
       "      <td>1228.601000</td>\n",
       "      <td>1004.609000</td>\n",
       "      <td>3087.000000</td>\n",
       "      <td>381.160300</td>\n",
       "      <td>349.816800</td>\n",
       "      <td>187.603100</td>\n",
       "      <td>-130.000000</td>\n",
       "      <td>-289.000000</td>\n",
       "      <td>481.000000</td>\n",
       "      <td>0.792622</td>\n",
       "      <td>0.624806</td>\n",
       "      <td>0.921293</td>\n",
       "      <td>0.251900</td>\n",
       "    </tr>\n",
       "  </tbody>\n",
       "</table>\n",
       "</div>"
      ],
      "text/plain": [
       "       Log Mode  Log Freq     Timestamp          AccX          AccY  \\\n",
       "count   16506.0   16506.0  1.650600e+04  16506.000000  16506.000000   \n",
       "mean        5.0     200.0  1.576223e+09     35.603752    121.754422   \n",
       "std         0.0       0.0  2.189258e+01    232.624330     62.077114   \n",
       "min         5.0     200.0  1.576223e+09   -722.118000   -387.838000   \n",
       "25%         5.0     200.0  1.576223e+09    -35.258000    111.020000   \n",
       "50%         5.0     200.0  1.576223e+09    -29.585000    115.900000   \n",
       "75%         5.0     200.0  1.576223e+09    -22.692000    120.475000   \n",
       "max         5.0     200.0  1.576223e+09   1228.601000   1004.609000   \n",
       "\n",
       "               AccZ         GyroX         GyroY         GyroZ         MagnX  \\\n",
       "count  16506.000000  16506.000000  16506.000000  16506.000000  16506.000000   \n",
       "mean    -897.001465     -1.885665      3.636535     -0.818354   -231.327881   \n",
       "std      215.230574     13.223364     17.399954     10.595643     67.200320   \n",
       "min    -1731.973000   -359.496200   -213.557300   -126.351100   -511.000000   \n",
       "25%     -958.310000     -2.839695      3.206107     -1.175573   -213.000000   \n",
       "50%     -948.733000     -2.137405      3.664122     -0.854962   -212.000000   \n",
       "75%     -937.692000     -1.206107      4.213740     -0.549618   -211.000000   \n",
       "max     3087.000000    381.160300    349.816800    187.603100   -130.000000   \n",
       "\n",
       "              MagnY         MagnZ            qw            qi            qj  \\\n",
       "count  16506.000000  16506.000000  16506.000000  16506.000000  16506.000000   \n",
       "mean    -432.637405    397.903005      0.063803      0.490530     -0.764329   \n",
       "std       16.526077    123.871453      0.144073      0.197328      0.326346   \n",
       "min     -559.000000   -178.000000      0.004428     -0.622059     -0.892911   \n",
       "25%     -434.000000    427.000000      0.021518      0.493858     -0.859676   \n",
       "50%     -432.000000    429.000000      0.024636      0.529649     -0.836619   \n",
       "75%     -431.000000    433.000000      0.027304      0.564768     -0.813227   \n",
       "max     -289.000000    481.000000      0.792622      0.624806      0.921293   \n",
       "\n",
       "                 qk  \n",
       "count  16506.000000  \n",
       "mean      -0.039947  \n",
       "std        0.057694  \n",
       "min       -0.096347  \n",
       "25%       -0.060732  \n",
       "50%       -0.059511  \n",
       "75%       -0.057619  \n",
       "max        0.251900  "
      ]
     },
     "execution_count": 2,
     "metadata": {},
     "output_type": "execute_result"
    }
   ],
   "source": [
    "pd1 = pd.read_csv('center_sternum.txt', delimiter='\\t')\n",
    "center_sternum = pd.DataFrame(pd1)\n",
    "display(center_sternum)\n",
    "center_sternum.describe()"
   ]
  },
  {
   "cell_type": "code",
   "execution_count": 3,
   "metadata": {
    "id": "2YQC0TpoJYGS",
    "outputId": "dc9e32db-c9c4-45bb-86e9-522f522f2d31"
   },
   "outputs": [
    {
     "data": {
      "text/html": [
       "<div>\n",
       "<style scoped>\n",
       "    .dataframe tbody tr th:only-of-type {\n",
       "        vertical-align: middle;\n",
       "    }\n",
       "\n",
       "    .dataframe tbody tr th {\n",
       "        vertical-align: top;\n",
       "    }\n",
       "\n",
       "    .dataframe thead th {\n",
       "        text-align: right;\n",
       "    }\n",
       "</style>\n",
       "<table border=\"1\" class=\"dataframe\">\n",
       "  <thead>\n",
       "    <tr style=\"text-align: right;\">\n",
       "      <th></th>\n",
       "      <th>Log Mode</th>\n",
       "      <th>Log Freq</th>\n",
       "      <th>Timestamp</th>\n",
       "      <th>AccX</th>\n",
       "      <th>AccY</th>\n",
       "      <th>AccZ</th>\n",
       "      <th>GyroX</th>\n",
       "      <th>GyroY</th>\n",
       "      <th>GyroZ</th>\n",
       "      <th>MagnX</th>\n",
       "      <th>MagnY</th>\n",
       "      <th>MagnZ</th>\n",
       "      <th>qw</th>\n",
       "      <th>qi</th>\n",
       "      <th>qj</th>\n",
       "      <th>qk</th>\n",
       "    </tr>\n",
       "  </thead>\n",
       "  <tbody>\n",
       "    <tr>\n",
       "      <th>0</th>\n",
       "      <td>5</td>\n",
       "      <td>200</td>\n",
       "      <td>1576222772</td>\n",
       "      <td>947.086</td>\n",
       "      <td>435.662</td>\n",
       "      <td>70.638</td>\n",
       "      <td>-6.824428</td>\n",
       "      <td>-14.244280</td>\n",
       "      <td>1.404580</td>\n",
       "      <td>-454</td>\n",
       "      <td>-490</td>\n",
       "      <td>-178</td>\n",
       "      <td>0.792622</td>\n",
       "      <td>0.254952</td>\n",
       "      <td>-0.553850</td>\n",
       "      <td>-0.000031</td>\n",
       "    </tr>\n",
       "    <tr>\n",
       "      <th>1</th>\n",
       "      <td>5</td>\n",
       "      <td>200</td>\n",
       "      <td>1576222772</td>\n",
       "      <td>969.168</td>\n",
       "      <td>387.777</td>\n",
       "      <td>88.877</td>\n",
       "      <td>6.183206</td>\n",
       "      <td>-12.290080</td>\n",
       "      <td>-7.969466</td>\n",
       "      <td>-454</td>\n",
       "      <td>-490</td>\n",
       "      <td>-177</td>\n",
       "      <td>0.736461</td>\n",
       "      <td>0.275124</td>\n",
       "      <td>-0.617969</td>\n",
       "      <td>0.006806</td>\n",
       "    </tr>\n",
       "    <tr>\n",
       "      <th>2</th>\n",
       "      <td>5</td>\n",
       "      <td>200</td>\n",
       "      <td>1576222772</td>\n",
       "      <td>989.603</td>\n",
       "      <td>380.335</td>\n",
       "      <td>78.751</td>\n",
       "      <td>11.709920</td>\n",
       "      <td>-4.961832</td>\n",
       "      <td>-7.450382</td>\n",
       "      <td>-454</td>\n",
       "      <td>-490</td>\n",
       "      <td>-177</td>\n",
       "      <td>0.729465</td>\n",
       "      <td>0.275246</td>\n",
       "      <td>-0.626118</td>\n",
       "      <td>0.009827</td>\n",
       "    </tr>\n",
       "    <tr>\n",
       "      <th>3</th>\n",
       "      <td>5</td>\n",
       "      <td>200</td>\n",
       "      <td>1576222772</td>\n",
       "      <td>954.894</td>\n",
       "      <td>418.033</td>\n",
       "      <td>88.328</td>\n",
       "      <td>17.877860</td>\n",
       "      <td>2.519084</td>\n",
       "      <td>-5.984733</td>\n",
       "      <td>-454</td>\n",
       "      <td>-492</td>\n",
       "      <td>-176</td>\n",
       "      <td>0.723413</td>\n",
       "      <td>0.277200</td>\n",
       "      <td>-0.632221</td>\n",
       "      <td>0.011383</td>\n",
       "    </tr>\n",
       "    <tr>\n",
       "      <th>4</th>\n",
       "      <td>5</td>\n",
       "      <td>200</td>\n",
       "      <td>1576222772</td>\n",
       "      <td>972.096</td>\n",
       "      <td>427.732</td>\n",
       "      <td>99.857</td>\n",
       "      <td>25.221370</td>\n",
       "      <td>5.404580</td>\n",
       "      <td>4.015267</td>\n",
       "      <td>-454</td>\n",
       "      <td>-492</td>\n",
       "      <td>-176</td>\n",
       "      <td>0.721948</td>\n",
       "      <td>0.280007</td>\n",
       "      <td>-0.632679</td>\n",
       "      <td>0.010193</td>\n",
       "    </tr>\n",
       "    <tr>\n",
       "      <th>...</th>\n",
       "      <td>...</td>\n",
       "      <td>...</td>\n",
       "      <td>...</td>\n",
       "      <td>...</td>\n",
       "      <td>...</td>\n",
       "      <td>...</td>\n",
       "      <td>...</td>\n",
       "      <td>...</td>\n",
       "      <td>...</td>\n",
       "      <td>...</td>\n",
       "      <td>...</td>\n",
       "      <td>...</td>\n",
       "      <td>...</td>\n",
       "      <td>...</td>\n",
       "      <td>...</td>\n",
       "      <td>...</td>\n",
       "    </tr>\n",
       "    <tr>\n",
       "      <th>16501</th>\n",
       "      <td>5</td>\n",
       "      <td>200</td>\n",
       "      <td>1576222847</td>\n",
       "      <td>958.493</td>\n",
       "      <td>291.092</td>\n",
       "      <td>-54.290</td>\n",
       "      <td>1.664122</td>\n",
       "      <td>2.305344</td>\n",
       "      <td>-0.671756</td>\n",
       "      <td>-494</td>\n",
       "      <td>-449</td>\n",
       "      <td>-126</td>\n",
       "      <td>0.650810</td>\n",
       "      <td>0.379162</td>\n",
       "      <td>-0.636402</td>\n",
       "      <td>0.166356</td>\n",
       "    </tr>\n",
       "    <tr>\n",
       "      <th>16502</th>\n",
       "      <td>5</td>\n",
       "      <td>200</td>\n",
       "      <td>1576222847</td>\n",
       "      <td>954.650</td>\n",
       "      <td>288.042</td>\n",
       "      <td>-49.654</td>\n",
       "      <td>1.480916</td>\n",
       "      <td>2.488550</td>\n",
       "      <td>-0.702290</td>\n",
       "      <td>-494</td>\n",
       "      <td>-450</td>\n",
       "      <td>-125</td>\n",
       "      <td>0.650239</td>\n",
       "      <td>0.379803</td>\n",
       "      <td>-0.636708</td>\n",
       "      <td>0.165960</td>\n",
       "    </tr>\n",
       "    <tr>\n",
       "      <th>16503</th>\n",
       "      <td>5</td>\n",
       "      <td>200</td>\n",
       "      <td>1576222847</td>\n",
       "      <td>967.338</td>\n",
       "      <td>290.482</td>\n",
       "      <td>-63.867</td>\n",
       "      <td>1.114504</td>\n",
       "      <td>3.374046</td>\n",
       "      <td>-0.900763</td>\n",
       "      <td>-494</td>\n",
       "      <td>-450</td>\n",
       "      <td>-125</td>\n",
       "      <td>0.649365</td>\n",
       "      <td>0.380627</td>\n",
       "      <td>-0.637227</td>\n",
       "      <td>0.165502</td>\n",
       "    </tr>\n",
       "    <tr>\n",
       "      <th>16504</th>\n",
       "      <td>5</td>\n",
       "      <td>200</td>\n",
       "      <td>1576222847</td>\n",
       "      <td>965.630</td>\n",
       "      <td>300.852</td>\n",
       "      <td>-56.242</td>\n",
       "      <td>0.702290</td>\n",
       "      <td>3.664122</td>\n",
       "      <td>-1.587786</td>\n",
       "      <td>-495</td>\n",
       "      <td>-448</td>\n",
       "      <td>-124</td>\n",
       "      <td>0.648973</td>\n",
       "      <td>0.381329</td>\n",
       "      <td>-0.637348</td>\n",
       "      <td>0.164953</td>\n",
       "    </tr>\n",
       "    <tr>\n",
       "      <th>16505</th>\n",
       "      <td>5</td>\n",
       "      <td>200</td>\n",
       "      <td>1576222847</td>\n",
       "      <td>959.957</td>\n",
       "      <td>298.473</td>\n",
       "      <td>-55.998</td>\n",
       "      <td>0.290076</td>\n",
       "      <td>4.061069</td>\n",
       "      <td>-1.343511</td>\n",
       "      <td>-495</td>\n",
       "      <td>-448</td>\n",
       "      <td>-124</td>\n",
       "      <td>0.648462</td>\n",
       "      <td>0.382336</td>\n",
       "      <td>-0.637471</td>\n",
       "      <td>0.164159</td>\n",
       "    </tr>\n",
       "  </tbody>\n",
       "</table>\n",
       "<p>16506 rows × 16 columns</p>\n",
       "</div>"
      ],
      "text/plain": [
       "       Log Mode  Log Freq   Timestamp     AccX     AccY    AccZ      GyroX  \\\n",
       "0             5       200  1576222772  947.086  435.662  70.638  -6.824428   \n",
       "1             5       200  1576222772  969.168  387.777  88.877   6.183206   \n",
       "2             5       200  1576222772  989.603  380.335  78.751  11.709920   \n",
       "3             5       200  1576222772  954.894  418.033  88.328  17.877860   \n",
       "4             5       200  1576222772  972.096  427.732  99.857  25.221370   \n",
       "...         ...       ...         ...      ...      ...     ...        ...   \n",
       "16501         5       200  1576222847  958.493  291.092 -54.290   1.664122   \n",
       "16502         5       200  1576222847  954.650  288.042 -49.654   1.480916   \n",
       "16503         5       200  1576222847  967.338  290.482 -63.867   1.114504   \n",
       "16504         5       200  1576222847  965.630  300.852 -56.242   0.702290   \n",
       "16505         5       200  1576222847  959.957  298.473 -55.998   0.290076   \n",
       "\n",
       "           GyroY     GyroZ  MagnX  MagnY  MagnZ        qw        qi        qj  \\\n",
       "0     -14.244280  1.404580   -454   -490   -178  0.792622  0.254952 -0.553850   \n",
       "1     -12.290080 -7.969466   -454   -490   -177  0.736461  0.275124 -0.617969   \n",
       "2      -4.961832 -7.450382   -454   -490   -177  0.729465  0.275246 -0.626118   \n",
       "3       2.519084 -5.984733   -454   -492   -176  0.723413  0.277200 -0.632221   \n",
       "4       5.404580  4.015267   -454   -492   -176  0.721948  0.280007 -0.632679   \n",
       "...          ...       ...    ...    ...    ...       ...       ...       ...   \n",
       "16501   2.305344 -0.671756   -494   -449   -126  0.650810  0.379162 -0.636402   \n",
       "16502   2.488550 -0.702290   -494   -450   -125  0.650239  0.379803 -0.636708   \n",
       "16503   3.374046 -0.900763   -494   -450   -125  0.649365  0.380627 -0.637227   \n",
       "16504   3.664122 -1.587786   -495   -448   -124  0.648973  0.381329 -0.637348   \n",
       "16505   4.061069 -1.343511   -495   -448   -124  0.648462  0.382336 -0.637471   \n",
       "\n",
       "             qk  \n",
       "0     -0.000031  \n",
       "1      0.006806  \n",
       "2      0.009827  \n",
       "3      0.011383  \n",
       "4      0.010193  \n",
       "...         ...  \n",
       "16501  0.166356  \n",
       "16502  0.165960  \n",
       "16503  0.165502  \n",
       "16504  0.164953  \n",
       "16505  0.164159  \n",
       "\n",
       "[16506 rows x 16 columns]"
      ]
     },
     "metadata": {},
     "output_type": "display_data"
    },
    {
     "data": {
      "text/plain": [
       "Index(['Log Mode', 'Log Freq', 'Timestamp', 'AccX', 'AccY', 'AccZ', 'GyroX',\n",
       "       'GyroY', 'GyroZ', 'MagnX', 'MagnY', 'MagnZ', 'qw', 'qi', 'qj', 'qk'],\n",
       "      dtype='object')"
      ]
     },
     "execution_count": 3,
     "metadata": {},
     "output_type": "execute_result"
    }
   ],
   "source": [
    "pd2 = pd.read_csv('2_Mattress_supine.txt', delimiter='\\t')\n",
    "mat_supine = pd.DataFrame(pd1)\n",
    "display(mat_supine)\n",
    "mat_supine.describe()\n",
    "mat_supine.columns"
   ]
  },
  {
   "cell_type": "code",
   "execution_count": 4,
   "metadata": {
    "id": "JHRoeZHFJYGS"
   },
   "outputs": [],
   "source": [
    "# test code\n",
    "# # df.loc[:,['A','B']]\n",
    "# aa = mat_supine.loc[:,['Log Freq','AccX']]\n",
    "# display(aa)\n",
    "\n",
    "# # df.drop(['E prime'], axis=1)\n",
    "\n",
    "# bb = mat_supine.drop(['Log Freq'], axis = 1)\n",
    "# display(bb)\n",
    "\n",
    "#len(center_sternum_d.index)"
   ]
  },
  {
   "cell_type": "markdown",
   "metadata": {
    "id": "fT2endsoJYGS"
   },
   "source": [
    "The goal of this assignment is to estimate the heart rate of a healthy subject, given linear acceleration and angular velocity measurements \n",
    "\n",
    "* Log Freq stands for the acquisition  in Hz (i.e., sampling interval is constant).\n",
    "* AccX, AccY, AccZ are the measured magnitude of linear acceleration along each axis.\n",
    "* GyroX, GyroY, GyroZ are the measured magnitude of angular velocity along each axis.\n",
    "* MagnX, MagnY, MagnZ are the measured magnitude of magnetic field along each axis.\n",
    "* qw, qi, qj, qk are the quaternion components, representing the spatial orientation of the Muse system.\n"
   ]
  },
  {
   "cell_type": "code",
   "execution_count": 5,
   "metadata": {
    "id": "H0XQO8Z4JYGT",
    "outputId": "f8e7ea46-5a07-4308-ec69-3a8e1330c05d"
   },
   "outputs": [
    {
     "name": "stdout",
     "output_type": "stream",
     "text": [
      "200\n"
     ]
    },
    {
     "data": {
      "text/html": [
       "<div>\n",
       "<style scoped>\n",
       "    .dataframe tbody tr th:only-of-type {\n",
       "        vertical-align: middle;\n",
       "    }\n",
       "\n",
       "    .dataframe tbody tr th {\n",
       "        vertical-align: top;\n",
       "    }\n",
       "\n",
       "    .dataframe thead th {\n",
       "        text-align: right;\n",
       "    }\n",
       "</style>\n",
       "<table border=\"1\" class=\"dataframe\">\n",
       "  <thead>\n",
       "    <tr style=\"text-align: right;\">\n",
       "      <th></th>\n",
       "      <th>Time</th>\n",
       "      <th>AccX</th>\n",
       "      <th>AccY</th>\n",
       "      <th>AccZ</th>\n",
       "      <th>GyroX</th>\n",
       "      <th>GyroY</th>\n",
       "      <th>GyroZ</th>\n",
       "    </tr>\n",
       "  </thead>\n",
       "  <tbody>\n",
       "    <tr>\n",
       "      <th>0</th>\n",
       "      <td>0.000</td>\n",
       "      <td>947.086</td>\n",
       "      <td>435.662</td>\n",
       "      <td>70.638</td>\n",
       "      <td>-6.824428</td>\n",
       "      <td>-14.244280</td>\n",
       "      <td>1.404580</td>\n",
       "    </tr>\n",
       "    <tr>\n",
       "      <th>1</th>\n",
       "      <td>0.005</td>\n",
       "      <td>969.168</td>\n",
       "      <td>387.777</td>\n",
       "      <td>88.877</td>\n",
       "      <td>6.183206</td>\n",
       "      <td>-12.290080</td>\n",
       "      <td>-7.969466</td>\n",
       "    </tr>\n",
       "    <tr>\n",
       "      <th>2</th>\n",
       "      <td>0.010</td>\n",
       "      <td>989.603</td>\n",
       "      <td>380.335</td>\n",
       "      <td>78.751</td>\n",
       "      <td>11.709920</td>\n",
       "      <td>-4.961832</td>\n",
       "      <td>-7.450382</td>\n",
       "    </tr>\n",
       "    <tr>\n",
       "      <th>3</th>\n",
       "      <td>0.015</td>\n",
       "      <td>954.894</td>\n",
       "      <td>418.033</td>\n",
       "      <td>88.328</td>\n",
       "      <td>17.877860</td>\n",
       "      <td>2.519084</td>\n",
       "      <td>-5.984733</td>\n",
       "    </tr>\n",
       "    <tr>\n",
       "      <th>4</th>\n",
       "      <td>0.020</td>\n",
       "      <td>972.096</td>\n",
       "      <td>427.732</td>\n",
       "      <td>99.857</td>\n",
       "      <td>25.221370</td>\n",
       "      <td>5.404580</td>\n",
       "      <td>4.015267</td>\n",
       "    </tr>\n",
       "    <tr>\n",
       "      <th>...</th>\n",
       "      <td>...</td>\n",
       "      <td>...</td>\n",
       "      <td>...</td>\n",
       "      <td>...</td>\n",
       "      <td>...</td>\n",
       "      <td>...</td>\n",
       "      <td>...</td>\n",
       "    </tr>\n",
       "    <tr>\n",
       "      <th>16501</th>\n",
       "      <td>82.505</td>\n",
       "      <td>958.493</td>\n",
       "      <td>291.092</td>\n",
       "      <td>-54.290</td>\n",
       "      <td>1.664122</td>\n",
       "      <td>2.305344</td>\n",
       "      <td>-0.671756</td>\n",
       "    </tr>\n",
       "    <tr>\n",
       "      <th>16502</th>\n",
       "      <td>82.510</td>\n",
       "      <td>954.650</td>\n",
       "      <td>288.042</td>\n",
       "      <td>-49.654</td>\n",
       "      <td>1.480916</td>\n",
       "      <td>2.488550</td>\n",
       "      <td>-0.702290</td>\n",
       "    </tr>\n",
       "    <tr>\n",
       "      <th>16503</th>\n",
       "      <td>82.515</td>\n",
       "      <td>967.338</td>\n",
       "      <td>290.482</td>\n",
       "      <td>-63.867</td>\n",
       "      <td>1.114504</td>\n",
       "      <td>3.374046</td>\n",
       "      <td>-0.900763</td>\n",
       "    </tr>\n",
       "    <tr>\n",
       "      <th>16504</th>\n",
       "      <td>82.520</td>\n",
       "      <td>965.630</td>\n",
       "      <td>300.852</td>\n",
       "      <td>-56.242</td>\n",
       "      <td>0.702290</td>\n",
       "      <td>3.664122</td>\n",
       "      <td>-1.587786</td>\n",
       "    </tr>\n",
       "    <tr>\n",
       "      <th>16505</th>\n",
       "      <td>82.525</td>\n",
       "      <td>959.957</td>\n",
       "      <td>298.473</td>\n",
       "      <td>-55.998</td>\n",
       "      <td>0.290076</td>\n",
       "      <td>4.061069</td>\n",
       "      <td>-1.343511</td>\n",
       "    </tr>\n",
       "  </tbody>\n",
       "</table>\n",
       "<p>16506 rows × 7 columns</p>\n",
       "</div>"
      ],
      "text/plain": [
       "         Time     AccX     AccY    AccZ      GyroX      GyroY     GyroZ\n",
       "0       0.000  947.086  435.662  70.638  -6.824428 -14.244280  1.404580\n",
       "1       0.005  969.168  387.777  88.877   6.183206 -12.290080 -7.969466\n",
       "2       0.010  989.603  380.335  78.751  11.709920  -4.961832 -7.450382\n",
       "3       0.015  954.894  418.033  88.328  17.877860   2.519084 -5.984733\n",
       "4       0.020  972.096  427.732  99.857  25.221370   5.404580  4.015267\n",
       "...       ...      ...      ...     ...        ...        ...       ...\n",
       "16501  82.505  958.493  291.092 -54.290   1.664122   2.305344 -0.671756\n",
       "16502  82.510  954.650  288.042 -49.654   1.480916   2.488550 -0.702290\n",
       "16503  82.515  967.338  290.482 -63.867   1.114504   3.374046 -0.900763\n",
       "16504  82.520  965.630  300.852 -56.242   0.702290   3.664122 -1.587786\n",
       "16505  82.525  959.957  298.473 -55.998   0.290076   4.061069 -1.343511\n",
       "\n",
       "[16506 rows x 7 columns]"
      ]
     },
     "execution_count": 5,
     "metadata": {},
     "output_type": "execute_result"
    }
   ],
   "source": [
    "frq = center_sternum['Log Freq'].unique()[0]\n",
    "print(frq)\n",
    "\n",
    "center_sternum_d = center_sternum.drop(['MagnX','MagnY','MagnZ','qw','qi','qj','qk','Log Mode','Log Freq','Timestamp'], axis = 1)\n",
    "# display(center_sternum_d)\n",
    "center_sternum_d.head(5)\n",
    "center_sternum_d.insert(0, \"Time\", np.arange(0,(len(center_sternum_d.index)/frq),(1/frq)))\n",
    "center_sternum_d"
   ]
  },
  {
   "cell_type": "markdown",
   "metadata": {
    "id": "-wmNA82AJYGT"
   },
   "source": [
    "1.2. Plot selected data in function of time and choose a properly time window over which to perform the analysis. Pay attention on time rappresentation and the measurament unit."
   ]
  },
  {
   "cell_type": "code",
   "execution_count": 6,
   "metadata": {
    "id": "EVUgya7VJYGT",
    "outputId": "5851042b-fcbc-46c6-cfd4-017ecda7c360"
   },
   "outputs": [
    {
     "data": {
      "text/plain": [
       "[<matplotlib.lines.Line2D at 0x200cbcd6a30>]"
      ]
     },
     "execution_count": 6,
     "metadata": {},
     "output_type": "execute_result"
    },
    {
     "data": {
      "image/png": "[encoded data removed]",
      "text/plain": [
       "<Figure size 432x288 with 1 Axes>"
      ]
     },
     "metadata": {
      "needs_background": "light"
     },
     "output_type": "display_data"
    }
   ],
   "source": [
    "plt.plot(center_sternum_d['AccX'])\n",
    "plt.plot(center_sternum_d['AccY'])\n",
    "plt.plot(center_sternum_d['AccZ'])"
   ]
  },
  {
   "cell_type": "code",
   "execution_count": 7,
   "metadata": {
    "id": "WZAe92wgJYGT",
    "outputId": "aacdd9cc-8979-4165-995f-660fac53258d"
   },
   "outputs": [
    {
     "data": {
      "text/plain": [
       "[<matplotlib.lines.Line2D at 0x200cbdcf100>]"
      ]
     },
     "execution_count": 7,
     "metadata": {},
     "output_type": "execute_result"
    },
    {
     "data": {
      "image/png": "[encoded data removed]",
      "text/plain": [
       "<Figure size 432x288 with 1 Axes>"
      ]
     },
     "metadata": {
      "needs_background": "light"
     },
     "output_type": "display_data"
    }
   ],
   "source": [
    "plt.plot(center_sternum_d['GyroX'])\n",
    "plt.plot(center_sternum_d['GyroY'])\n",
    "plt.plot(center_sternum_d['GyroZ'])"
   ]
  },
  {
   "cell_type": "code",
   "execution_count": 8,
   "metadata": {
    "id": "3PkMb0jXJYGT"
   },
   "outputs": [],
   "source": [
    "#sns.pairplot(center_sternum_d)"
   ]
  },
  {
   "cell_type": "code",
   "execution_count": 9,
   "metadata": {
    "id": "sjSEtH-hJYGT"
   },
   "outputs": [],
   "source": [
    "# timestamp mattress \n",
    "#mat_supine.Timestamp.unique()"
   ]
  },
  {
   "cell_type": "code",
   "execution_count": 10,
   "metadata": {
    "id": "FaZTzVbpJYGU"
   },
   "outputs": [],
   "source": [
    "#mat_supine.Timestamp.value_counts()"
   ]
  },
  {
   "cell_type": "markdown",
   "metadata": {
    "id": "Hp_ymMr_JYGU"
   },
   "source": [
    "1.1\n",
    "- we dropped magnetisation, spatial orientation and log mode (maybe timestamp too)\n",
    "- we dropped time stamp and log freq, instead we use Time column to represent time in secs instead of arbitrary unit.\n",
    "- timestamp have repetitive values that may represent a meaningful division of the data, but there's no info that supports it for now (ignore this)\n",
    "\n",
    "1.2\n",
    "- so we just plotted all the data per type, and saw similar behaviours for each type of measurement (X,Y,Z corresponing to the same physical meaning behave in the same way)\n",
    "- from such behaviours, we-re going to have to crop a bit from the beginning and from the end of the data: **we need to find a criteria (based on the histogram) for cropping of the data from beginning and end**\n",
    "\n",
    "1.3\n",
    "- to decide which axis and info to keep analysing, perform a PCA (since the professor is speaking about combinations of the components, what about considering spherical coordinates?)\n",
    "2.1\n",
    "- statistical description of data\n",
    "- FFT"
   ]
  },
  {
   "cell_type": "code",
   "execution_count": 11,
   "metadata": {
    "id": "pFLLhNWwJYGU",
    "outputId": "68eeb3c4-9736-426a-9fe8-4e6f72ac2aa8"
   },
   "outputs": [
    {
     "data": {
      "text/html": [
       "<div>\n",
       "<style scoped>\n",
       "    .dataframe tbody tr th:only-of-type {\n",
       "        vertical-align: middle;\n",
       "    }\n",
       "\n",
       "    .dataframe tbody tr th {\n",
       "        vertical-align: top;\n",
       "    }\n",
       "\n",
       "    .dataframe thead th {\n",
       "        text-align: right;\n",
       "    }\n",
       "</style>\n",
       "<table border=\"1\" class=\"dataframe\">\n",
       "  <thead>\n",
       "    <tr style=\"text-align: right;\">\n",
       "      <th></th>\n",
       "      <th>Time</th>\n",
       "      <th>AccX</th>\n",
       "      <th>AccY</th>\n",
       "      <th>AccZ</th>\n",
       "      <th>GyroX</th>\n",
       "      <th>GyroY</th>\n",
       "      <th>GyroZ</th>\n",
       "    </tr>\n",
       "  </thead>\n",
       "  <tbody>\n",
       "    <tr>\n",
       "      <th>0</th>\n",
       "      <td>0.000</td>\n",
       "      <td>947.086</td>\n",
       "      <td>435.662</td>\n",
       "      <td>70.638</td>\n",
       "      <td>-6.824428</td>\n",
       "      <td>-14.244280</td>\n",
       "      <td>1.404580</td>\n",
       "    </tr>\n",
       "    <tr>\n",
       "      <th>1</th>\n",
       "      <td>0.005</td>\n",
       "      <td>969.168</td>\n",
       "      <td>387.777</td>\n",
       "      <td>88.877</td>\n",
       "      <td>6.183206</td>\n",
       "      <td>-12.290080</td>\n",
       "      <td>-7.969466</td>\n",
       "    </tr>\n",
       "    <tr>\n",
       "      <th>2</th>\n",
       "      <td>0.010</td>\n",
       "      <td>989.603</td>\n",
       "      <td>380.335</td>\n",
       "      <td>78.751</td>\n",
       "      <td>11.709920</td>\n",
       "      <td>-4.961832</td>\n",
       "      <td>-7.450382</td>\n",
       "    </tr>\n",
       "    <tr>\n",
       "      <th>3</th>\n",
       "      <td>0.015</td>\n",
       "      <td>954.894</td>\n",
       "      <td>418.033</td>\n",
       "      <td>88.328</td>\n",
       "      <td>17.877860</td>\n",
       "      <td>2.519084</td>\n",
       "      <td>-5.984733</td>\n",
       "    </tr>\n",
       "    <tr>\n",
       "      <th>4</th>\n",
       "      <td>0.020</td>\n",
       "      <td>972.096</td>\n",
       "      <td>427.732</td>\n",
       "      <td>99.857</td>\n",
       "      <td>25.221370</td>\n",
       "      <td>5.404580</td>\n",
       "      <td>4.015267</td>\n",
       "    </tr>\n",
       "    <tr>\n",
       "      <th>...</th>\n",
       "      <td>...</td>\n",
       "      <td>...</td>\n",
       "      <td>...</td>\n",
       "      <td>...</td>\n",
       "      <td>...</td>\n",
       "      <td>...</td>\n",
       "      <td>...</td>\n",
       "    </tr>\n",
       "    <tr>\n",
       "      <th>16501</th>\n",
       "      <td>82.505</td>\n",
       "      <td>958.493</td>\n",
       "      <td>291.092</td>\n",
       "      <td>-54.290</td>\n",
       "      <td>1.664122</td>\n",
       "      <td>2.305344</td>\n",
       "      <td>-0.671756</td>\n",
       "    </tr>\n",
       "    <tr>\n",
       "      <th>16502</th>\n",
       "      <td>82.510</td>\n",
       "      <td>954.650</td>\n",
       "      <td>288.042</td>\n",
       "      <td>-49.654</td>\n",
       "      <td>1.480916</td>\n",
       "      <td>2.488550</td>\n",
       "      <td>-0.702290</td>\n",
       "    </tr>\n",
       "    <tr>\n",
       "      <th>16503</th>\n",
       "      <td>82.515</td>\n",
       "      <td>967.338</td>\n",
       "      <td>290.482</td>\n",
       "      <td>-63.867</td>\n",
       "      <td>1.114504</td>\n",
       "      <td>3.374046</td>\n",
       "      <td>-0.900763</td>\n",
       "    </tr>\n",
       "    <tr>\n",
       "      <th>16504</th>\n",
       "      <td>82.520</td>\n",
       "      <td>965.630</td>\n",
       "      <td>300.852</td>\n",
       "      <td>-56.242</td>\n",
       "      <td>0.702290</td>\n",
       "      <td>3.664122</td>\n",
       "      <td>-1.587786</td>\n",
       "    </tr>\n",
       "    <tr>\n",
       "      <th>16505</th>\n",
       "      <td>82.525</td>\n",
       "      <td>959.957</td>\n",
       "      <td>298.473</td>\n",
       "      <td>-55.998</td>\n",
       "      <td>0.290076</td>\n",
       "      <td>4.061069</td>\n",
       "      <td>-1.343511</td>\n",
       "    </tr>\n",
       "  </tbody>\n",
       "</table>\n",
       "<p>16506 rows × 7 columns</p>\n",
       "</div>"
      ],
      "text/plain": [
       "         Time     AccX     AccY    AccZ      GyroX      GyroY     GyroZ\n",
       "0       0.000  947.086  435.662  70.638  -6.824428 -14.244280  1.404580\n",
       "1       0.005  969.168  387.777  88.877   6.183206 -12.290080 -7.969466\n",
       "2       0.010  989.603  380.335  78.751  11.709920  -4.961832 -7.450382\n",
       "3       0.015  954.894  418.033  88.328  17.877860   2.519084 -5.984733\n",
       "4       0.020  972.096  427.732  99.857  25.221370   5.404580  4.015267\n",
       "...       ...      ...      ...     ...        ...        ...       ...\n",
       "16501  82.505  958.493  291.092 -54.290   1.664122   2.305344 -0.671756\n",
       "16502  82.510  954.650  288.042 -49.654   1.480916   2.488550 -0.702290\n",
       "16503  82.515  967.338  290.482 -63.867   1.114504   3.374046 -0.900763\n",
       "16504  82.520  965.630  300.852 -56.242   0.702290   3.664122 -1.587786\n",
       "16505  82.525  959.957  298.473 -55.998   0.290076   4.061069 -1.343511\n",
       "\n",
       "[16506 rows x 7 columns]"
      ]
     },
     "execution_count": 11,
     "metadata": {},
     "output_type": "execute_result"
    }
   ],
   "source": [
    "#doing the same for mattress data\n",
    "\n",
    "frq = mat_supine['Log Freq'].unique()[0]\n",
    "\n",
    "\n",
    "ms = mat_supine.drop(['MagnX','MagnY','MagnZ','qw','qi','qj','qk','Log Mode','Log Freq','Timestamp'], axis = 1)\n",
    "# display(center_sternum_d)\n",
    "ms.head(5)\n",
    "ms.insert(0, \"Time\", np.arange(0,(len(ms.index)/frq),(1/frq)))\n",
    "ms"
   ]
  },
  {
   "cell_type": "markdown",
   "metadata": {
    "id": "aDLoEulyJYGU"
   },
   "source": [
    "# Adding offsets, plotting data, dropping some data"
   ]
  },
  {
   "cell_type": "markdown",
   "metadata": {
    "id": "F_fcFXnQJYGU"
   },
   "source": [
    "Please add here ok cells of work before so it will be not messy now"
   ]
  },
  {
   "cell_type": "code",
   "execution_count": 12,
   "metadata": {
    "id": "hay-MvYkJYGU"
   },
   "outputs": [],
   "source": [
    "########24.01.22 upd\n",
    "\n",
    "###PREVIOUSLY NO COMSIDERATION OF OFFSETS\n",
    "#added here to accelerometer \n",
    "\n",
    "\n",
    "### center sternum README1\n",
    "acc_offsets1 = np.array([-3.929942, -13.74679, 60.67546])\n",
    "\n",
    "\n",
    "cs = center_sternum_d\n",
    "cs['AccX'] += acc_offsets1[0]\n",
    "cs['AccY'] += acc_offsets1[1]\n",
    "cs['AccZ'] += acc_offsets1[2]\n",
    "\n",
    "\n"
   ]
  },
  {
   "cell_type": "code",
   "execution_count": 13,
   "metadata": {
    "id": "jW61-SQxJYGU",
    "outputId": "268f275c-f56c-4803-ce43-e481cbd9050f"
   },
   "outputs": [
    {
     "data": {
      "text/plain": [
       "<matplotlib.collections.PolyCollection at 0x200cd393b50>"
      ]
     },
     "execution_count": 13,
     "metadata": {},
     "output_type": "execute_result"
    },
    {
     "data": {
      "image/png": "[encoded data removed]",
      "text/plain": [
       "<Figure size 1080x1080 with 2 Axes>"
      ]
     },
     "metadata": {
      "needs_background": "light"
     },
     "output_type": "display_data"
    }
   ],
   "source": [
    "fig, ax = plt.subplots(2,1)\n",
    "fig.set_figheight(15)\n",
    "fig.set_figwidth(15)\n",
    "\n",
    "down_limit = 0.1*max(cs['Time']) #I was exploring it visually with step 0.05\n",
    "up_limit = 0.85*max(cs['Time'])\n",
    "fill0 = np.arange(-1200,300)  #y range of the highlited visual aid for fig 0\n",
    "fill1 = np.arange(-25,25) #y range of the highlited visual aid for fig 1\n",
    "\n",
    "ax[0].plot(cs['Time'], cs['AccX'], label='X')\n",
    "ax[0].plot(cs['Time'], cs['AccY'], label='Y')\n",
    "ax[0].plot(cs['Time'], cs['AccZ'], label='Z')\n",
    "ax[0].set_xlim(min(cs['Time']),max(cs['Time']))\n",
    "ax[0].set_xlabel('Time, s', fontsize=14)\n",
    "ax[0].set_ylabel('Acceleration, mg', fontsize=14)\n",
    "ax[0].axvline(down_limit, color='red')\n",
    "ax[0].axvline(up_limit, color='red')\n",
    "ax[0].legend()\n",
    "ax[0].grid()\n",
    "ax[0].fill_betweenx(fill0,down_limit,up_limit, color='blue', alpha =0.2)\n",
    "\n",
    "\n",
    "ax[1].plot(cs['Time'], cs['GyroX'], label='X')\n",
    "ax[1].plot(cs['Time'], cs['GyroY'], label='Y')\n",
    "ax[1].plot(cs['Time'], cs['GyroZ'], label='Z')\n",
    "ax[1].set_xlim(min(cs['Time']),max(cs['Time']))\n",
    "ax[1].set_xlabel('Time, s', fontsize=14)\n",
    "ax[1].set_ylabel('Angular velocity, dps', fontsize=14)\n",
    "ax[1].axvline(down_limit, color='red')\n",
    "ax[1].axvline(up_limit, color='red')\n",
    "ax[1].grid()\n",
    "ax[1].fill_betweenx(fill1,down_limit,up_limit, color='blue', alpha =0.2)\n"
   ]
  },
  {
   "cell_type": "markdown",
   "metadata": {
    "id": "WzlXJqYEJYGV"
   },
   "source": [
    "I found another gyroscope description, dps - dimensionless numbers.\n",
    "IDK if we use it, but conversion should be like\n",
    "$w[rad*s^{-1}] = \\frac{w_{raw}*200}{2^{15}}*\\frac{\\pi}{180}$\n",
    "\n",
    "200 is taken from README1"
   ]
  },
  {
   "cell_type": "code",
   "execution_count": 14,
   "metadata": {
    "id": "uO_ZsWn9JYGV",
    "outputId": "a6f4c172-1331-4a1a-89de-1dc7f878f7c6"
   },
   "outputs": [
    {
     "data": {
      "text/html": [
       "<div>\n",
       "<style scoped>\n",
       "    .dataframe tbody tr th:only-of-type {\n",
       "        vertical-align: middle;\n",
       "    }\n",
       "\n",
       "    .dataframe tbody tr th {\n",
       "        vertical-align: top;\n",
       "    }\n",
       "\n",
       "    .dataframe thead th {\n",
       "        text-align: right;\n",
       "    }\n",
       "</style>\n",
       "<table border=\"1\" class=\"dataframe\">\n",
       "  <thead>\n",
       "    <tr style=\"text-align: right;\">\n",
       "      <th></th>\n",
       "      <th>Time</th>\n",
       "      <th>AccX</th>\n",
       "      <th>AccY</th>\n",
       "      <th>AccZ</th>\n",
       "      <th>GyroX</th>\n",
       "      <th>GyroY</th>\n",
       "      <th>GyroZ</th>\n",
       "    </tr>\n",
       "  </thead>\n",
       "  <tbody>\n",
       "    <tr>\n",
       "      <th>1651</th>\n",
       "      <td>8.255</td>\n",
       "      <td>-40.224942</td>\n",
       "      <td>103.98321</td>\n",
       "      <td>-908.37054</td>\n",
       "      <td>-3.297710</td>\n",
       "      <td>3.847328</td>\n",
       "      <td>-0.687023</td>\n",
       "    </tr>\n",
       "    <tr>\n",
       "      <th>1652</th>\n",
       "      <td>8.260</td>\n",
       "      <td>-36.869942</td>\n",
       "      <td>106.36221</td>\n",
       "      <td>-924.90154</td>\n",
       "      <td>-3.801527</td>\n",
       "      <td>4.381680</td>\n",
       "      <td>-0.595420</td>\n",
       "    </tr>\n",
       "    <tr>\n",
       "      <th>1653</th>\n",
       "      <td>8.265</td>\n",
       "      <td>-47.483942</td>\n",
       "      <td>93.06421</td>\n",
       "      <td>-886.65454</td>\n",
       "      <td>-3.847328</td>\n",
       "      <td>4.351145</td>\n",
       "      <td>0.045802</td>\n",
       "    </tr>\n",
       "    <tr>\n",
       "      <th>1654</th>\n",
       "      <td>8.270</td>\n",
       "      <td>-36.320942</td>\n",
       "      <td>97.02921</td>\n",
       "      <td>-902.94154</td>\n",
       "      <td>-3.954199</td>\n",
       "      <td>4.412214</td>\n",
       "      <td>0.259542</td>\n",
       "    </tr>\n",
       "    <tr>\n",
       "      <th>1655</th>\n",
       "      <td>8.275</td>\n",
       "      <td>-37.662942</td>\n",
       "      <td>95.19921</td>\n",
       "      <td>-894.64554</td>\n",
       "      <td>-4.167939</td>\n",
       "      <td>3.480916</td>\n",
       "      <td>0.015267</td>\n",
       "    </tr>\n",
       "    <tr>\n",
       "      <th>...</th>\n",
       "      <td>...</td>\n",
       "      <td>...</td>\n",
       "      <td>...</td>\n",
       "      <td>...</td>\n",
       "      <td>...</td>\n",
       "      <td>...</td>\n",
       "      <td>...</td>\n",
       "    </tr>\n",
       "    <tr>\n",
       "      <th>14025</th>\n",
       "      <td>70.125</td>\n",
       "      <td>-48.825942</td>\n",
       "      <td>116.48821</td>\n",
       "      <td>-910.20054</td>\n",
       "      <td>-3.312977</td>\n",
       "      <td>1.984733</td>\n",
       "      <td>-0.977099</td>\n",
       "    </tr>\n",
       "    <tr>\n",
       "      <th>14026</th>\n",
       "      <td>70.130</td>\n",
       "      <td>-46.934942</td>\n",
       "      <td>114.78021</td>\n",
       "      <td>-900.19654</td>\n",
       "      <td>-7.282443</td>\n",
       "      <td>1.938931</td>\n",
       "      <td>-1.480916</td>\n",
       "    </tr>\n",
       "    <tr>\n",
       "      <th>14027</th>\n",
       "      <td>70.135</td>\n",
       "      <td>-40.041942</td>\n",
       "      <td>110.44921</td>\n",
       "      <td>-852.06754</td>\n",
       "      <td>-8.870229</td>\n",
       "      <td>2.564886</td>\n",
       "      <td>-1.450382</td>\n",
       "    </tr>\n",
       "    <tr>\n",
       "      <th>14028</th>\n",
       "      <td>70.140</td>\n",
       "      <td>-47.239942</td>\n",
       "      <td>108.86321</td>\n",
       "      <td>-844.74754</td>\n",
       "      <td>-7.129771</td>\n",
       "      <td>3.648855</td>\n",
       "      <td>-1.389313</td>\n",
       "    </tr>\n",
       "    <tr>\n",
       "      <th>14029</th>\n",
       "      <td>70.145</td>\n",
       "      <td>-53.400942</td>\n",
       "      <td>110.32721</td>\n",
       "      <td>-841.51454</td>\n",
       "      <td>-4.167939</td>\n",
       "      <td>4.854962</td>\n",
       "      <td>-0.671756</td>\n",
       "    </tr>\n",
       "  </tbody>\n",
       "</table>\n",
       "<p>12379 rows × 7 columns</p>\n",
       "</div>"
      ],
      "text/plain": [
       "         Time       AccX       AccY       AccZ     GyroX     GyroY     GyroZ\n",
       "1651    8.255 -40.224942  103.98321 -908.37054 -3.297710  3.847328 -0.687023\n",
       "1652    8.260 -36.869942  106.36221 -924.90154 -3.801527  4.381680 -0.595420\n",
       "1653    8.265 -47.483942   93.06421 -886.65454 -3.847328  4.351145  0.045802\n",
       "1654    8.270 -36.320942   97.02921 -902.94154 -3.954199  4.412214  0.259542\n",
       "1655    8.275 -37.662942   95.19921 -894.64554 -4.167939  3.480916  0.015267\n",
       "...       ...        ...        ...        ...       ...       ...       ...\n",
       "14025  70.125 -48.825942  116.48821 -910.20054 -3.312977  1.984733 -0.977099\n",
       "14026  70.130 -46.934942  114.78021 -900.19654 -7.282443  1.938931 -1.480916\n",
       "14027  70.135 -40.041942  110.44921 -852.06754 -8.870229  2.564886 -1.450382\n",
       "14028  70.140 -47.239942  108.86321 -844.74754 -7.129771  3.648855 -1.389313\n",
       "14029  70.145 -53.400942  110.32721 -841.51454 -4.167939  4.854962 -0.671756\n",
       "\n",
       "[12379 rows x 7 columns]"
      ]
     },
     "execution_count": 14,
     "metadata": {},
     "output_type": "execute_result"
    }
   ],
   "source": [
    "#dropping data\n",
    "\n",
    "cs.drop(cs[ cs['Time']<= down_limit].index, inplace=True)\n",
    "cs.drop(cs[ cs['Time']>= up_limit].index, inplace=True)\n",
    "cs"
   ]
  },
  {
   "cell_type": "code",
   "execution_count": 15,
   "metadata": {
    "id": "4lXvaDkptRqZ",
    "outputId": "367f6050-8879-40e5-c771-adeb07ab7cbc"
   },
   "outputs": [
    {
     "data": {
      "text/html": [
       "<div>\n",
       "<style scoped>\n",
       "    .dataframe tbody tr th:only-of-type {\n",
       "        vertical-align: middle;\n",
       "    }\n",
       "\n",
       "    .dataframe tbody tr th {\n",
       "        vertical-align: top;\n",
       "    }\n",
       "\n",
       "    .dataframe thead th {\n",
       "        text-align: right;\n",
       "    }\n",
       "</style>\n",
       "<table border=\"1\" class=\"dataframe\">\n",
       "  <thead>\n",
       "    <tr style=\"text-align: right;\">\n",
       "      <th></th>\n",
       "      <th>Time</th>\n",
       "      <th>AccX</th>\n",
       "      <th>AccY</th>\n",
       "      <th>AccZ</th>\n",
       "      <th>GyroX</th>\n",
       "      <th>GyroY</th>\n",
       "      <th>GyroZ</th>\n",
       "    </tr>\n",
       "  </thead>\n",
       "  <tbody>\n",
       "    <tr>\n",
       "      <th>0</th>\n",
       "      <td>8.255</td>\n",
       "      <td>-40.224942</td>\n",
       "      <td>103.98321</td>\n",
       "      <td>-908.37054</td>\n",
       "      <td>-3.297710</td>\n",
       "      <td>3.847328</td>\n",
       "      <td>-0.687023</td>\n",
       "    </tr>\n",
       "    <tr>\n",
       "      <th>1</th>\n",
       "      <td>8.260</td>\n",
       "      <td>-36.869942</td>\n",
       "      <td>106.36221</td>\n",
       "      <td>-924.90154</td>\n",
       "      <td>-3.801527</td>\n",
       "      <td>4.381680</td>\n",
       "      <td>-0.595420</td>\n",
       "    </tr>\n",
       "    <tr>\n",
       "      <th>2</th>\n",
       "      <td>8.265</td>\n",
       "      <td>-47.483942</td>\n",
       "      <td>93.06421</td>\n",
       "      <td>-886.65454</td>\n",
       "      <td>-3.847328</td>\n",
       "      <td>4.351145</td>\n",
       "      <td>0.045802</td>\n",
       "    </tr>\n",
       "    <tr>\n",
       "      <th>3</th>\n",
       "      <td>8.270</td>\n",
       "      <td>-36.320942</td>\n",
       "      <td>97.02921</td>\n",
       "      <td>-902.94154</td>\n",
       "      <td>-3.954199</td>\n",
       "      <td>4.412214</td>\n",
       "      <td>0.259542</td>\n",
       "    </tr>\n",
       "    <tr>\n",
       "      <th>4</th>\n",
       "      <td>8.275</td>\n",
       "      <td>-37.662942</td>\n",
       "      <td>95.19921</td>\n",
       "      <td>-894.64554</td>\n",
       "      <td>-4.167939</td>\n",
       "      <td>3.480916</td>\n",
       "      <td>0.015267</td>\n",
       "    </tr>\n",
       "    <tr>\n",
       "      <th>...</th>\n",
       "      <td>...</td>\n",
       "      <td>...</td>\n",
       "      <td>...</td>\n",
       "      <td>...</td>\n",
       "      <td>...</td>\n",
       "      <td>...</td>\n",
       "      <td>...</td>\n",
       "    </tr>\n",
       "    <tr>\n",
       "      <th>12374</th>\n",
       "      <td>70.125</td>\n",
       "      <td>-48.825942</td>\n",
       "      <td>116.48821</td>\n",
       "      <td>-910.20054</td>\n",
       "      <td>-3.312977</td>\n",
       "      <td>1.984733</td>\n",
       "      <td>-0.977099</td>\n",
       "    </tr>\n",
       "    <tr>\n",
       "      <th>12375</th>\n",
       "      <td>70.130</td>\n",
       "      <td>-46.934942</td>\n",
       "      <td>114.78021</td>\n",
       "      <td>-900.19654</td>\n",
       "      <td>-7.282443</td>\n",
       "      <td>1.938931</td>\n",
       "      <td>-1.480916</td>\n",
       "    </tr>\n",
       "    <tr>\n",
       "      <th>12376</th>\n",
       "      <td>70.135</td>\n",
       "      <td>-40.041942</td>\n",
       "      <td>110.44921</td>\n",
       "      <td>-852.06754</td>\n",
       "      <td>-8.870229</td>\n",
       "      <td>2.564886</td>\n",
       "      <td>-1.450382</td>\n",
       "    </tr>\n",
       "    <tr>\n",
       "      <th>12377</th>\n",
       "      <td>70.140</td>\n",
       "      <td>-47.239942</td>\n",
       "      <td>108.86321</td>\n",
       "      <td>-844.74754</td>\n",
       "      <td>-7.129771</td>\n",
       "      <td>3.648855</td>\n",
       "      <td>-1.389313</td>\n",
       "    </tr>\n",
       "    <tr>\n",
       "      <th>12378</th>\n",
       "      <td>70.145</td>\n",
       "      <td>-53.400942</td>\n",
       "      <td>110.32721</td>\n",
       "      <td>-841.51454</td>\n",
       "      <td>-4.167939</td>\n",
       "      <td>4.854962</td>\n",
       "      <td>-0.671756</td>\n",
       "    </tr>\n",
       "  </tbody>\n",
       "</table>\n",
       "<p>12379 rows × 7 columns</p>\n",
       "</div>"
      ],
      "text/plain": [
       "         Time       AccX       AccY       AccZ     GyroX     GyroY     GyroZ\n",
       "0       8.255 -40.224942  103.98321 -908.37054 -3.297710  3.847328 -0.687023\n",
       "1       8.260 -36.869942  106.36221 -924.90154 -3.801527  4.381680 -0.595420\n",
       "2       8.265 -47.483942   93.06421 -886.65454 -3.847328  4.351145  0.045802\n",
       "3       8.270 -36.320942   97.02921 -902.94154 -3.954199  4.412214  0.259542\n",
       "4       8.275 -37.662942   95.19921 -894.64554 -4.167939  3.480916  0.015267\n",
       "...       ...        ...        ...        ...       ...       ...       ...\n",
       "12374  70.125 -48.825942  116.48821 -910.20054 -3.312977  1.984733 -0.977099\n",
       "12375  70.130 -46.934942  114.78021 -900.19654 -7.282443  1.938931 -1.480916\n",
       "12376  70.135 -40.041942  110.44921 -852.06754 -8.870229  2.564886 -1.450382\n",
       "12377  70.140 -47.239942  108.86321 -844.74754 -7.129771  3.648855 -1.389313\n",
       "12378  70.145 -53.400942  110.32721 -841.51454 -4.167939  4.854962 -0.671756\n",
       "\n",
       "[12379 rows x 7 columns]"
      ]
     },
     "execution_count": 15,
     "metadata": {},
     "output_type": "execute_result"
    }
   ],
   "source": [
    "#!!!!!!!!!!!!!!!!!!!!!!!!!!! redefining index\n",
    "\n",
    "cs.set_index(np.arange(len(cs)),inplace=True)\n",
    "cs"
   ]
  },
  {
   "cell_type": "markdown",
   "metadata": {
    "id": "WNMcsGFPtRqZ"
   },
   "source": [
    "# PCA on acceleration"
   ]
  },
  {
   "cell_type": "code",
   "execution_count": 16,
   "metadata": {
    "id": "WbmfnLidtRqZ"
   },
   "outputs": [],
   "source": [
    "acc_PCA = pd.DataFrame(columns=['AccX', 'AccY', 'AccZ'], index=cs.index)\n",
    "acc_PCA['AccX'] = cs['AccX']\n",
    "acc_PCA['AccY'] = cs['AccY']\n",
    "acc_PCA['AccZ'] = cs['AccZ']"
   ]
  },
  {
   "cell_type": "code",
   "execution_count": 17,
   "metadata": {
    "id": "n4w4w-XptRqa",
    "outputId": "83b6430b-9242-4c31-f703-09249f5a7812"
   },
   "outputs": [
    {
     "data": {
      "text/html": [
       "<div>\n",
       "<style scoped>\n",
       "    .dataframe tbody tr th:only-of-type {\n",
       "        vertical-align: middle;\n",
       "    }\n",
       "\n",
       "    .dataframe tbody tr th {\n",
       "        vertical-align: top;\n",
       "    }\n",
       "\n",
       "    .dataframe thead th {\n",
       "        text-align: right;\n",
       "    }\n",
       "</style>\n",
       "<table border=\"1\" class=\"dataframe\">\n",
       "  <thead>\n",
       "    <tr style=\"text-align: right;\">\n",
       "      <th></th>\n",
       "      <th>AccX</th>\n",
       "      <th>AccY</th>\n",
       "      <th>AccZ</th>\n",
       "    </tr>\n",
       "  </thead>\n",
       "  <tbody>\n",
       "    <tr>\n",
       "      <th>0</th>\n",
       "      <td>-40.224942</td>\n",
       "      <td>103.98321</td>\n",
       "      <td>-908.37054</td>\n",
       "    </tr>\n",
       "    <tr>\n",
       "      <th>1</th>\n",
       "      <td>-36.869942</td>\n",
       "      <td>106.36221</td>\n",
       "      <td>-924.90154</td>\n",
       "    </tr>\n",
       "    <tr>\n",
       "      <th>2</th>\n",
       "      <td>-47.483942</td>\n",
       "      <td>93.06421</td>\n",
       "      <td>-886.65454</td>\n",
       "    </tr>\n",
       "    <tr>\n",
       "      <th>3</th>\n",
       "      <td>-36.320942</td>\n",
       "      <td>97.02921</td>\n",
       "      <td>-902.94154</td>\n",
       "    </tr>\n",
       "    <tr>\n",
       "      <th>4</th>\n",
       "      <td>-37.662942</td>\n",
       "      <td>95.19921</td>\n",
       "      <td>-894.64554</td>\n",
       "    </tr>\n",
       "    <tr>\n",
       "      <th>...</th>\n",
       "      <td>...</td>\n",
       "      <td>...</td>\n",
       "      <td>...</td>\n",
       "    </tr>\n",
       "    <tr>\n",
       "      <th>12374</th>\n",
       "      <td>-48.825942</td>\n",
       "      <td>116.48821</td>\n",
       "      <td>-910.20054</td>\n",
       "    </tr>\n",
       "    <tr>\n",
       "      <th>12375</th>\n",
       "      <td>-46.934942</td>\n",
       "      <td>114.78021</td>\n",
       "      <td>-900.19654</td>\n",
       "    </tr>\n",
       "    <tr>\n",
       "      <th>12376</th>\n",
       "      <td>-40.041942</td>\n",
       "      <td>110.44921</td>\n",
       "      <td>-852.06754</td>\n",
       "    </tr>\n",
       "    <tr>\n",
       "      <th>12377</th>\n",
       "      <td>-47.239942</td>\n",
       "      <td>108.86321</td>\n",
       "      <td>-844.74754</td>\n",
       "    </tr>\n",
       "    <tr>\n",
       "      <th>12378</th>\n",
       "      <td>-53.400942</td>\n",
       "      <td>110.32721</td>\n",
       "      <td>-841.51454</td>\n",
       "    </tr>\n",
       "  </tbody>\n",
       "</table>\n",
       "<p>12379 rows × 3 columns</p>\n",
       "</div>"
      ],
      "text/plain": [
       "            AccX       AccY       AccZ\n",
       "0     -40.224942  103.98321 -908.37054\n",
       "1     -36.869942  106.36221 -924.90154\n",
       "2     -47.483942   93.06421 -886.65454\n",
       "3     -36.320942   97.02921 -902.94154\n",
       "4     -37.662942   95.19921 -894.64554\n",
       "...          ...        ...        ...\n",
       "12374 -48.825942  116.48821 -910.20054\n",
       "12375 -46.934942  114.78021 -900.19654\n",
       "12376 -40.041942  110.44921 -852.06754\n",
       "12377 -47.239942  108.86321 -844.74754\n",
       "12378 -53.400942  110.32721 -841.51454\n",
       "\n",
       "[12379 rows x 3 columns]"
      ]
     },
     "execution_count": 17,
     "metadata": {},
     "output_type": "execute_result"
    }
   ],
   "source": [
    "acc_PCA"
   ]
  },
  {
   "cell_type": "code",
   "execution_count": 18,
   "metadata": {
    "id": "wIFEMtPAtRqa",
    "outputId": "d88cfe5d-21d5-4758-b7e1-0701f20513d7"
   },
   "outputs": [
    {
     "name": "stdout",
     "output_type": "stream",
     "text": [
      "[221.38155088  40.20397591  26.6692512 ]\n",
      "76.80065268085112\n",
      "13.9473753692925\n",
      "9.251971949856395\n"
     ]
    }
   ],
   "source": [
    "import scipy.linalg as la\n",
    "cov = np.cov(acc_PCA.T)\n",
    "l, V = la.eig(cov)\n",
    "l = np.real_if_close(l)\n",
    "print(l)\n",
    "\n",
    "for i in range(len(l)):\n",
    "    print(100*l[i]/sum(l))"
   ]
  },
  {
   "cell_type": "markdown",
   "metadata": {
    "id": "BmUR8o2FtRqa"
   },
   "source": [
    "We see that if we keep only X component we will have the 76% of total variability of the dataset"
   ]
  },
  {
   "cell_type": "code",
   "execution_count": 19,
   "metadata": {
    "id": "4wk8vlyYtRqa",
    "outputId": "e3332339-019a-43b2-fd12-45a7588aabb2"
   },
   "outputs": [
    {
     "data": {
      "text/html": [
       "<div>\n",
       "<style scoped>\n",
       "    .dataframe tbody tr th:only-of-type {\n",
       "        vertical-align: middle;\n",
       "    }\n",
       "\n",
       "    .dataframe tbody tr th {\n",
       "        vertical-align: top;\n",
       "    }\n",
       "\n",
       "    .dataframe thead th {\n",
       "        text-align: right;\n",
       "    }\n",
       "</style>\n",
       "<table border=\"1\" class=\"dataframe\">\n",
       "  <thead>\n",
       "    <tr style=\"text-align: right;\">\n",
       "      <th></th>\n",
       "      <th>AccX_new</th>\n",
       "      <th>AccY_new</th>\n",
       "      <th>AccZ_new</th>\n",
       "    </tr>\n",
       "  </thead>\n",
       "  <tbody>\n",
       "    <tr>\n",
       "      <th>0</th>\n",
       "      <td>862.961630</td>\n",
       "      <td>287.947157</td>\n",
       "      <td>-99.755956</td>\n",
       "    </tr>\n",
       "    <tr>\n",
       "      <th>1</th>\n",
       "      <td>879.591209</td>\n",
       "      <td>289.485516</td>\n",
       "      <td>-103.114554</td>\n",
       "    </tr>\n",
       "    <tr>\n",
       "      <th>2</th>\n",
       "      <td>841.030643</td>\n",
       "      <td>286.630970</td>\n",
       "      <td>-87.075193</td>\n",
       "    </tr>\n",
       "    <tr>\n",
       "      <th>3</th>\n",
       "      <td>859.141548</td>\n",
       "      <td>281.202354</td>\n",
       "      <td>-94.012440</td>\n",
       "    </tr>\n",
       "    <tr>\n",
       "      <th>4</th>\n",
       "      <td>850.924241</td>\n",
       "      <td>279.950316</td>\n",
       "      <td>-91.802976</td>\n",
       "    </tr>\n",
       "    <tr>\n",
       "      <th>...</th>\n",
       "      <td>...</td>\n",
       "      <td>...</td>\n",
       "      <td>...</td>\n",
       "    </tr>\n",
       "    <tr>\n",
       "      <th>12374</th>\n",
       "      <td>861.772244</td>\n",
       "      <td>299.597993</td>\n",
       "      <td>-109.581663</td>\n",
       "    </tr>\n",
       "    <tr>\n",
       "      <th>12375</th>\n",
       "      <td>852.651264</td>\n",
       "      <td>294.930004</td>\n",
       "      <td>-108.320405</td>\n",
       "    </tr>\n",
       "    <tr>\n",
       "      <th>12376</th>\n",
       "      <td>807.959926</td>\n",
       "      <td>275.514550</td>\n",
       "      <td>-105.422809</td>\n",
       "    </tr>\n",
       "    <tr>\n",
       "      <th>12377</th>\n",
       "      <td>799.292391</td>\n",
       "      <td>280.044585</td>\n",
       "      <td>-101.921150</td>\n",
       "    </tr>\n",
       "    <tr>\n",
       "      <th>12378</th>\n",
       "      <td>794.600144</td>\n",
       "      <td>285.381060</td>\n",
       "      <td>-101.679580</td>\n",
       "    </tr>\n",
       "  </tbody>\n",
       "</table>\n",
       "<p>12379 rows × 3 columns</p>\n",
       "</div>"
      ],
      "text/plain": [
       "         AccX_new    AccY_new    AccZ_new\n",
       "0      862.961630  287.947157  -99.755956\n",
       "1      879.591209  289.485516 -103.114554\n",
       "2      841.030643  286.630970  -87.075193\n",
       "3      859.141548  281.202354  -94.012440\n",
       "4      850.924241  279.950316  -91.802976\n",
       "...           ...         ...         ...\n",
       "12374  861.772244  299.597993 -109.581663\n",
       "12375  852.651264  294.930004 -108.320405\n",
       "12376  807.959926  275.514550 -105.422809\n",
       "12377  799.292391  280.044585 -101.921150\n",
       "12378  794.600144  285.381060 -101.679580\n",
       "\n",
       "[12379 rows x 3 columns]"
      ]
     },
     "execution_count": 19,
     "metadata": {},
     "output_type": "execute_result"
    }
   ],
   "source": [
    "#rotating data\n",
    "\n",
    "acc_rot = np.dot(V.T, acc_PCA.T)\n",
    "\n",
    "acc_rotated = pd.DataFrame(data=acc_rot.T, columns=['AccX_new','AccY_new','AccZ_new'], index=np.arange(len(acc_PCA)))\n",
    "acc_rotated"
   ]
  },
  {
   "cell_type": "markdown",
   "metadata": {
    "id": "dOmZMw39tRqa"
   },
   "source": [
    "New ONE coordinate: $$\\sqrt{x^2 + y^2 + z^2}$$"
   ]
  },
  {
   "cell_type": "code",
   "execution_count": 20,
   "metadata": {
    "id": "T081glHXtRqb",
    "outputId": "4819792b-fa2b-4f43-9f41-72e607a22ad8"
   },
   "outputs": [
    {
     "data": {
      "text/html": [
       "<div>\n",
       "<style scoped>\n",
       "    .dataframe tbody tr th:only-of-type {\n",
       "        vertical-align: middle;\n",
       "    }\n",
       "\n",
       "    .dataframe tbody tr th {\n",
       "        vertical-align: top;\n",
       "    }\n",
       "\n",
       "    .dataframe thead th {\n",
       "        text-align: right;\n",
       "    }\n",
       "</style>\n",
       "<table border=\"1\" class=\"dataframe\">\n",
       "  <thead>\n",
       "    <tr style=\"text-align: right;\">\n",
       "      <th></th>\n",
       "      <th>R</th>\n",
       "      <th>Time</th>\n",
       "    </tr>\n",
       "  </thead>\n",
       "  <tbody>\n",
       "    <tr>\n",
       "      <th>0</th>\n",
       "      <td>915.187190</td>\n",
       "      <td>8.255</td>\n",
       "    </tr>\n",
       "    <tr>\n",
       "      <th>1</th>\n",
       "      <td>931.726983</td>\n",
       "      <td>8.260</td>\n",
       "    </tr>\n",
       "    <tr>\n",
       "      <th>2</th>\n",
       "      <td>892.788858</td>\n",
       "      <td>8.265</td>\n",
       "    </tr>\n",
       "    <tr>\n",
       "      <th>3</th>\n",
       "      <td>908.865943</td>\n",
       "      <td>8.270</td>\n",
       "    </tr>\n",
       "    <tr>\n",
       "      <th>4</th>\n",
       "      <td>900.484330</td>\n",
       "      <td>8.275</td>\n",
       "    </tr>\n",
       "    <tr>\n",
       "      <th>...</th>\n",
       "      <td>...</td>\n",
       "      <td>...</td>\n",
       "    </tr>\n",
       "    <tr>\n",
       "      <th>12374</th>\n",
       "      <td>918.922466</td>\n",
       "      <td>70.125</td>\n",
       "    </tr>\n",
       "    <tr>\n",
       "      <th>12375</th>\n",
       "      <td>908.697527</td>\n",
       "      <td>70.130</td>\n",
       "    </tr>\n",
       "    <tr>\n",
       "      <th>12376</th>\n",
       "      <td>860.128757</td>\n",
       "      <td>70.135</td>\n",
       "    </tr>\n",
       "    <tr>\n",
       "      <th>12377</th>\n",
       "      <td>853.042330</td>\n",
       "      <td>70.140</td>\n",
       "    </tr>\n",
       "    <tr>\n",
       "      <th>12378</th>\n",
       "      <td>850.394306</td>\n",
       "      <td>70.145</td>\n",
       "    </tr>\n",
       "  </tbody>\n",
       "</table>\n",
       "<p>12379 rows × 2 columns</p>\n",
       "</div>"
      ],
      "text/plain": [
       "                R    Time\n",
       "0      915.187190   8.255\n",
       "1      931.726983   8.260\n",
       "2      892.788858   8.265\n",
       "3      908.865943   8.270\n",
       "4      900.484330   8.275\n",
       "...           ...     ...\n",
       "12374  918.922466  70.125\n",
       "12375  908.697527  70.130\n",
       "12376  860.128757  70.135\n",
       "12377  853.042330  70.140\n",
       "12378  850.394306  70.145\n",
       "\n",
       "[12379 rows x 2 columns]"
      ]
     },
     "execution_count": 20,
     "metadata": {},
     "output_type": "execute_result"
    }
   ],
   "source": [
    "data_R = pd.DataFrame(columns=['R', 'Time'],index=np.arange(len(acc_rotated)))\n",
    "data_R['R'] = np.sqrt(acc_rotated['AccX_new']**2 + acc_rotated['AccY_new']**2 + acc_rotated['AccZ_new']**2)\n",
    "data_R['Time'] = cs['Time']\n",
    "data_R"
   ]
  },
  {
   "cell_type": "markdown",
   "metadata": {
    "id": "U2eeML5LtRqb"
   },
   "source": [
    "Later - same things as for X component but for R"
   ]
  },
  {
   "cell_type": "code",
   "execution_count": 21,
   "metadata": {
    "id": "yI9THdhytRqb",
    "outputId": "9114a5a6-f235-4524-eba5-1c0434f37182"
   },
   "outputs": [
    {
     "data": {
      "text/plain": [
       "Text(0, 0.5, 'Acceleration, mg')"
      ]
     },
     "execution_count": 21,
     "metadata": {},
     "output_type": "execute_result"
    },
    {
     "data": {
      "image/png": "[encoded data removed]",
      "text/plain": [
       "<Figure size 1440x360 with 1 Axes>"
      ]
     },
     "metadata": {
      "needs_background": "light"
     },
     "output_type": "display_data"
    }
   ],
   "source": [
    "plt.figure(figsize=(20,5))\n",
    "plt.plot(data_R['Time'], data_R['R'])\n",
    "plt.xlim(min(data_R['Time']),max(data_R['Time']))\n",
    "plt.xlabel('Time, s', fontsize=14)\n",
    "plt.ylabel('Acceleration, mg', fontsize=14)"
   ]
  },
  {
   "cell_type": "code",
   "execution_count": 22,
   "metadata": {
    "id": "Vi5yyr4PtRqb",
    "outputId": "d0b82671-fe2c-4e4b-bdc5-bef92a851f9f"
   },
   "outputs": [
    {
     "name": "stdout",
     "output_type": "stream",
     "text": [
      "Statistical analysis\n",
      "count    12379.000000\n",
      "mean       895.116630\n",
      "std         14.197064\n",
      "min        828.592128\n",
      "25%        887.464617\n",
      "50%        895.497850\n",
      "75%        903.446218\n",
      "max        967.760021\n",
      "Name: R, dtype: float64\n",
      "median 895.4978500594041\n",
      "variance 201.55661296018576\n"
     ]
    }
   ],
   "source": [
    "print('Statistical analysis')\n",
    "print(data_R['R'].describe())\n",
    "print('median', data_R['R'].median())\n",
    "print('variance', data_R['R'].var())"
   ]
  },
  {
   "cell_type": "markdown",
   "metadata": {
    "id": "ftKyauibtRqb"
   },
   "source": [
    "FFT for R data"
   ]
  },
  {
   "cell_type": "code",
   "execution_count": 23,
   "metadata": {
    "id": "ETDaYg3BtRqb",
    "outputId": "9aaf7610-866b-41cd-e85d-935d58a5732e"
   },
   "outputs": [
    {
     "name": "stdout",
     "output_type": "stream",
     "text": [
      "Signal size: 12379\n",
      "Peak Freq in range of 40BPM to 100 BPM is  1.1471039663947007 Beat per Sec\n",
      "In BPM is 68.82623798368203\n"
     ]
    },
    {
     "data": {
      "image/png": "[encoded data removed]",
      "text/plain": [
       "<Figure size 432x360 with 1 Axes>"
      ]
     },
     "metadata": {
      "needs_background": "light"
     },
     "output_type": "display_data"
    }
   ],
   "source": [
    "# The FFT of the signal Z around the area of heart beat frequencies\n",
    "from scipy import fftpack\n",
    "\n",
    "data_AccR = np.asarray(data_R['R'])\n",
    "\n",
    "R_fft = fftpack.fft(data_AccR)\n",
    "print(\"Signal size:\",data_AccR.size)\n",
    "# And the power (sig_fft is of complex dtype)\n",
    "power_R = np.abs(R_fft)\n",
    "\n",
    "timestep = 1/200\n",
    "# The corresponding frequencies\n",
    "sample_freq_R = fftpack.fftfreq(data_AccR.size, d=timestep)\n",
    "#print(sample_freq)\n",
    "\n",
    "# Adjust mask to freq of heart beat (40bpm and  100 bpm) translate it to sec\n",
    "pos_mask_R = np.where((40/60 <= sample_freq_R) & (sample_freq_R <= 100/60) )\n",
    "# pos_mask = np.where(sample_freq > 0)\n",
    "freqs_R = sample_freq_R[pos_mask_R]\n",
    "peak_freq_R = freqs_R[power_R[pos_mask_R].argmax()]\n",
    "\n",
    "# Plot the FFT power\n",
    "plt.figure(figsize=(6, 5))\n",
    "plt.plot(freqs_R, power_R[pos_mask_R])\n",
    "plt.xlabel('Frequency [Hz]')\n",
    "plt.ylabel('power')\n",
    "plt.axvline(peak_freq_R, color='red')\n",
    "\n",
    "print(\"Peak Freq in range of 40BPM to 100 BPM is \", peak_freq_R , \"Beat per Sec\")\n",
    "print(\"In BPM is\", peak_freq_R*60)"
   ]
  },
  {
   "cell_type": "code",
   "execution_count": 74,
   "metadata": {},
   "outputs": [
    {
     "name": "stdout",
     "output_type": "stream",
     "text": [
      "Invert FFT if we cut out freq bigger than our peak freq\n"
     ]
    },
    {
     "data": {
      "image/png": "[encoded data removed]",
      "text/plain": [
       "<Figure size 720x576 with 1 Axes>"
      ]
     },
     "metadata": {
      "needs_background": "light"
     },
     "output_type": "display_data"
    }
   ],
   "source": [
    "high_freq_fft_R = R_fft.copy()\n",
    "high_freq_fft_R[(np.abs(sample_freq_R) >= peak_freq_R)] = 0\n",
    "filtered_sig_R = fftpack.ifft(high_freq_fft_R).real\n",
    "\n",
    "\n",
    "plt.figure(figsize=(10, 8))\n",
    "plt.plot(cs['Time'], data_AccR, label='Original signal')\n",
    "plt.plot(cs['Time'], filtered_sig_R, linewidth=3, label='Filtered signal')\n",
    "plt.xlabel('Time [s]')\n",
    "plt.ylabel('CS_ACCX')\n",
    "\n",
    "plt.legend(loc='best')\n",
    "print(\"Invert FFT if we cut out freq bigger than our peak freq\")"
   ]
  },
  {
   "cell_type": "code",
   "execution_count": 78,
   "metadata": {},
   "outputs": [
    {
     "name": "stdout",
     "output_type": "stream",
     "text": [
      "Just Signal between 40 - 100 BPM\n"
     ]
    },
    {
     "data": {
      "image/png": "[encoded data removed]",
      "text/plain": [
       "<Figure size 720x576 with 1 Axes>"
      ]
     },
     "metadata": {
      "needs_background": "light"
     },
     "output_type": "display_data"
    }
   ],
   "source": [
    "# Freq between 40BPM to 100 BPM\n",
    "blocked_fft_R = R_fft.copy()\n",
    "blocked_fft_R[(np.abs(sample_freq_R) >= 100.60)] = 0\n",
    "blocked_fft_R[(np.abs(sample_freq_R) <= 40.60)] = 0\n",
    "blocked_R = fftpack.ifft(high_freq_fft_R).real\n",
    "\n",
    "\n",
    "plt.figure(figsize=(10, 8))\n",
    "plt.plot(cs['Time'], blocked_R, linewidth=3)\n",
    "plt.xlabel('Time [s]')\n",
    "plt.ylabel('CS_ACC_R')\n",
    "\n",
    "print(\"Just Signal between 40 - 100 BPM\")"
   ]
  },
  {
   "cell_type": "markdown",
   "metadata": {
    "id": "o-xTegmhJYGV"
   },
   "source": [
    "# Analysis of Acc_X"
   ]
  },
  {
   "cell_type": "code",
   "execution_count": 24,
   "metadata": {
    "id": "86LvPesUJYGV",
    "outputId": "d2d69930-8efa-4f53-d625-f1b327dee802"
   },
   "outputs": [
    {
     "data": {
      "text/plain": [
       "Text(0, 0.5, 'Acceleration, mg')"
      ]
     },
     "execution_count": 24,
     "metadata": {},
     "output_type": "execute_result"
    },
    {
     "data": {
      "image/png": "[encoded data removed]",
      "text/plain": [
       "<Figure size 1440x360 with 1 Axes>"
      ]
     },
     "metadata": {
      "needs_background": "light"
     },
     "output_type": "display_data"
    }
   ],
   "source": [
    "#statistical analysis of acc_x\n",
    "\n",
    "plt.figure(figsize=(20,5))\n",
    "plt.plot(cs['Time'], cs['AccX'])\n",
    "plt.xlim(min(cs['Time']),max(cs['Time']))\n",
    "plt.xlabel('Time, s', fontsize=14)\n",
    "plt.ylabel('Acceleration, mg', fontsize=14)"
   ]
  },
  {
   "cell_type": "code",
   "execution_count": 25,
   "metadata": {
    "id": "Xo-TO31TJYGV",
    "outputId": "c6526fe9-452c-427f-8934-3b90469acb27"
   },
   "outputs": [
    {
     "name": "stdout",
     "output_type": "stream",
     "text": [
      "Statistical analysis\n",
      "count    12379.000000\n",
      "mean       -34.677682\n",
      "std          7.021214\n",
      "min        -70.846942\n",
      "25%        -39.309942\n",
      "50%        -34.612942\n",
      "75%        -29.976942\n",
      "max         -9.358942\n",
      "Name: AccX, dtype: float64\n",
      "median -34.612942\n",
      "variance 49.29745129528079\n"
     ]
    }
   ],
   "source": [
    "print('Statistical analysis')\n",
    "print(cs['AccX'].describe())\n",
    "print('median', cs['AccX'].median())\n",
    "print('variance', cs['AccX'].var())"
   ]
  },
  {
   "cell_type": "markdown",
   "metadata": {
    "id": "_8k-7XvYJYGV"
   },
   "source": [
    "# All data statistical quantities of Center Sternum"
   ]
  },
  {
   "cell_type": "code",
   "execution_count": 26,
   "metadata": {
    "id": "-v9DINidJYGW",
    "outputId": "b3b0fdfd-d789-401e-d304-2954a28f5404",
    "scrolled": true
   },
   "outputs": [
    {
     "data": {
      "text/html": [
       "<div>\n",
       "<style scoped>\n",
       "    .dataframe tbody tr th:only-of-type {\n",
       "        vertical-align: middle;\n",
       "    }\n",
       "\n",
       "    .dataframe tbody tr th {\n",
       "        vertical-align: top;\n",
       "    }\n",
       "\n",
       "    .dataframe thead th {\n",
       "        text-align: right;\n",
       "    }\n",
       "</style>\n",
       "<table border=\"1\" class=\"dataframe\">\n",
       "  <thead>\n",
       "    <tr style=\"text-align: right;\">\n",
       "      <th></th>\n",
       "      <th>mean</th>\n",
       "      <th>median</th>\n",
       "      <th>variance</th>\n",
       "      <th>standard deviation</th>\n",
       "      <th>25th percentile</th>\n",
       "      <th>75th percentiles</th>\n",
       "    </tr>\n",
       "  </thead>\n",
       "  <tbody>\n",
       "    <tr>\n",
       "      <th>Time</th>\n",
       "      <td>39.200000</td>\n",
       "      <td>39.200000</td>\n",
       "      <td>319.275042</td>\n",
       "      <td>17.868269</td>\n",
       "      <td>23.727500</td>\n",
       "      <td>54.672500</td>\n",
       "    </tr>\n",
       "    <tr>\n",
       "      <th>AccX</th>\n",
       "      <td>-34.677682</td>\n",
       "      <td>-34.612942</td>\n",
       "      <td>49.297451</td>\n",
       "      <td>7.021214</td>\n",
       "      <td>-39.309942</td>\n",
       "      <td>-29.976942</td>\n",
       "    </tr>\n",
       "    <tr>\n",
       "      <th>AccY</th>\n",
       "      <td>101.770017</td>\n",
       "      <td>101.909210</td>\n",
       "      <td>28.627036</td>\n",
       "      <td>5.350424</td>\n",
       "      <td>98.310210</td>\n",
       "      <td>105.325210</td>\n",
       "    </tr>\n",
       "    <tr>\n",
       "      <th>AccZ</th>\n",
       "      <td>-888.587312</td>\n",
       "      <td>-888.972540</td>\n",
       "      <td>210.330291</td>\n",
       "      <td>14.502768</td>\n",
       "      <td>-897.268540</td>\n",
       "      <td>-880.737540</td>\n",
       "    </tr>\n",
       "    <tr>\n",
       "      <th>GyroX</th>\n",
       "      <td>-2.089004</td>\n",
       "      <td>-2.152672</td>\n",
       "      <td>2.061175</td>\n",
       "      <td>1.435679</td>\n",
       "      <td>-2.687023</td>\n",
       "      <td>-1.480916</td>\n",
       "    </tr>\n",
       "    <tr>\n",
       "      <th>GyroY</th>\n",
       "      <td>3.682129</td>\n",
       "      <td>3.633588</td>\n",
       "      <td>0.524791</td>\n",
       "      <td>0.724425</td>\n",
       "      <td>3.267176</td>\n",
       "      <td>4.000000</td>\n",
       "    </tr>\n",
       "    <tr>\n",
       "      <th>GyroZ</th>\n",
       "      <td>-0.865798</td>\n",
       "      <td>-0.854962</td>\n",
       "      <td>0.134305</td>\n",
       "      <td>0.366476</td>\n",
       "      <td>-1.099237</td>\n",
       "      <td>-0.625954</td>\n",
       "    </tr>\n",
       "  </tbody>\n",
       "</table>\n",
       "</div>"
      ],
      "text/plain": [
       "             mean      median    variance  standard deviation  \\\n",
       "Time    39.200000   39.200000  319.275042           17.868269   \n",
       "AccX   -34.677682  -34.612942   49.297451            7.021214   \n",
       "AccY   101.770017  101.909210   28.627036            5.350424   \n",
       "AccZ  -888.587312 -888.972540  210.330291           14.502768   \n",
       "GyroX   -2.089004   -2.152672    2.061175            1.435679   \n",
       "GyroY    3.682129    3.633588    0.524791            0.724425   \n",
       "GyroZ   -0.865798   -0.854962    0.134305            0.366476   \n",
       "\n",
       "       25th percentile  75th percentiles  \n",
       "Time         23.727500         54.672500  \n",
       "AccX        -39.309942        -29.976942  \n",
       "AccY         98.310210        105.325210  \n",
       "AccZ       -897.268540       -880.737540  \n",
       "GyroX        -2.687023         -1.480916  \n",
       "GyroY         3.267176          4.000000  \n",
       "GyroZ        -1.099237         -0.625954  "
      ]
     },
     "metadata": {},
     "output_type": "display_data"
    }
   ],
   "source": [
    "stq = pd.DataFrame({'mean': cs.mean(),\n",
    "                   'median': cs.median(),\n",
    "                   'variance': cs.var(),\n",
    "                   'standard deviation': cs.std(),\n",
    "                   '25th percentile': cs.quantile(q=0.25),\n",
    "                   '75th percentiles': cs.quantile(q=0.75)})\n",
    "display(stq)"
   ]
  },
  {
   "cell_type": "code",
   "execution_count": 27,
   "metadata": {
    "id": "DP3kWfmCJYGW",
    "outputId": "c3bf44b5-f1ae-446b-fc29-8f723d95ba7b"
   },
   "outputs": [
    {
     "data": {
      "text/html": [
       "<div>\n",
       "<style scoped>\n",
       "    .dataframe tbody tr th:only-of-type {\n",
       "        vertical-align: middle;\n",
       "    }\n",
       "\n",
       "    .dataframe tbody tr th {\n",
       "        vertical-align: top;\n",
       "    }\n",
       "\n",
       "    .dataframe thead th {\n",
       "        text-align: right;\n",
       "    }\n",
       "</style>\n",
       "<table border=\"1\" class=\"dataframe\">\n",
       "  <thead>\n",
       "    <tr style=\"text-align: right;\">\n",
       "      <th></th>\n",
       "      <th>Time</th>\n",
       "      <th>AccX</th>\n",
       "      <th>AccY</th>\n",
       "      <th>AccZ</th>\n",
       "      <th>GyroX</th>\n",
       "      <th>GyroY</th>\n",
       "      <th>GyroZ</th>\n",
       "    </tr>\n",
       "  </thead>\n",
       "  <tbody>\n",
       "    <tr>\n",
       "      <th>Time</th>\n",
       "      <td>1.000000</td>\n",
       "      <td>-0.086022</td>\n",
       "      <td>0.524123</td>\n",
       "      <td>0.262656</td>\n",
       "      <td>-0.039175</td>\n",
       "      <td>-0.054312</td>\n",
       "      <td>-0.026903</td>\n",
       "    </tr>\n",
       "    <tr>\n",
       "      <th>AccX</th>\n",
       "      <td>-0.086022</td>\n",
       "      <td>1.000000</td>\n",
       "      <td>-0.176537</td>\n",
       "      <td>-0.405237</td>\n",
       "      <td>0.207113</td>\n",
       "      <td>0.008637</td>\n",
       "      <td>0.024947</td>\n",
       "    </tr>\n",
       "    <tr>\n",
       "      <th>AccY</th>\n",
       "      <td>0.524123</td>\n",
       "      <td>-0.176537</td>\n",
       "      <td>1.000000</td>\n",
       "      <td>0.171794</td>\n",
       "      <td>-0.053377</td>\n",
       "      <td>-0.008125</td>\n",
       "      <td>-0.142546</td>\n",
       "    </tr>\n",
       "    <tr>\n",
       "      <th>AccZ</th>\n",
       "      <td>0.262656</td>\n",
       "      <td>-0.405237</td>\n",
       "      <td>0.171794</td>\n",
       "      <td>1.000000</td>\n",
       "      <td>-0.080377</td>\n",
       "      <td>0.115635</td>\n",
       "      <td>0.019117</td>\n",
       "    </tr>\n",
       "    <tr>\n",
       "      <th>GyroX</th>\n",
       "      <td>-0.039175</td>\n",
       "      <td>0.207113</td>\n",
       "      <td>-0.053377</td>\n",
       "      <td>-0.080377</td>\n",
       "      <td>1.000000</td>\n",
       "      <td>0.403676</td>\n",
       "      <td>0.390208</td>\n",
       "    </tr>\n",
       "    <tr>\n",
       "      <th>GyroY</th>\n",
       "      <td>-0.054312</td>\n",
       "      <td>0.008637</td>\n",
       "      <td>-0.008125</td>\n",
       "      <td>0.115635</td>\n",
       "      <td>0.403676</td>\n",
       "      <td>1.000000</td>\n",
       "      <td>0.436808</td>\n",
       "    </tr>\n",
       "    <tr>\n",
       "      <th>GyroZ</th>\n",
       "      <td>-0.026903</td>\n",
       "      <td>0.024947</td>\n",
       "      <td>-0.142546</td>\n",
       "      <td>0.019117</td>\n",
       "      <td>0.390208</td>\n",
       "      <td>0.436808</td>\n",
       "      <td>1.000000</td>\n",
       "    </tr>\n",
       "  </tbody>\n",
       "</table>\n",
       "</div>"
      ],
      "text/plain": [
       "           Time      AccX      AccY      AccZ     GyroX     GyroY     GyroZ\n",
       "Time   1.000000 -0.086022  0.524123  0.262656 -0.039175 -0.054312 -0.026903\n",
       "AccX  -0.086022  1.000000 -0.176537 -0.405237  0.207113  0.008637  0.024947\n",
       "AccY   0.524123 -0.176537  1.000000  0.171794 -0.053377 -0.008125 -0.142546\n",
       "AccZ   0.262656 -0.405237  0.171794  1.000000 -0.080377  0.115635  0.019117\n",
       "GyroX -0.039175  0.207113 -0.053377 -0.080377  1.000000  0.403676  0.390208\n",
       "GyroY -0.054312  0.008637 -0.008125  0.115635  0.403676  1.000000  0.436808\n",
       "GyroZ -0.026903  0.024947 -0.142546  0.019117  0.390208  0.436808  1.000000"
      ]
     },
     "execution_count": 27,
     "metadata": {},
     "output_type": "execute_result"
    }
   ],
   "source": [
    "cs.corr()"
   ]
  },
  {
   "cell_type": "code",
   "execution_count": 28,
   "metadata": {
    "id": "vY6gDe1LtRqc",
    "outputId": "38e0dacd-4095-4892-8436-754022e26355"
   },
   "outputs": [
    {
     "data": {
      "text/html": [
       "<div>\n",
       "<style scoped>\n",
       "    .dataframe tbody tr th:only-of-type {\n",
       "        vertical-align: middle;\n",
       "    }\n",
       "\n",
       "    .dataframe tbody tr th {\n",
       "        vertical-align: top;\n",
       "    }\n",
       "\n",
       "    .dataframe thead th {\n",
       "        text-align: right;\n",
       "    }\n",
       "</style>\n",
       "<table border=\"1\" class=\"dataframe\">\n",
       "  <thead>\n",
       "    <tr style=\"text-align: right;\">\n",
       "      <th></th>\n",
       "      <th>GyroX</th>\n",
       "      <th>GyroY</th>\n",
       "      <th>GyroZ</th>\n",
       "    </tr>\n",
       "  </thead>\n",
       "  <tbody>\n",
       "    <tr>\n",
       "      <th>0</th>\n",
       "      <td>-3.297710</td>\n",
       "      <td>3.847328</td>\n",
       "      <td>-0.687023</td>\n",
       "    </tr>\n",
       "    <tr>\n",
       "      <th>1</th>\n",
       "      <td>-3.801527</td>\n",
       "      <td>4.381680</td>\n",
       "      <td>-0.595420</td>\n",
       "    </tr>\n",
       "    <tr>\n",
       "      <th>2</th>\n",
       "      <td>-3.847328</td>\n",
       "      <td>4.351145</td>\n",
       "      <td>0.045802</td>\n",
       "    </tr>\n",
       "    <tr>\n",
       "      <th>3</th>\n",
       "      <td>-3.954199</td>\n",
       "      <td>4.412214</td>\n",
       "      <td>0.259542</td>\n",
       "    </tr>\n",
       "    <tr>\n",
       "      <th>4</th>\n",
       "      <td>-4.167939</td>\n",
       "      <td>3.480916</td>\n",
       "      <td>0.015267</td>\n",
       "    </tr>\n",
       "    <tr>\n",
       "      <th>...</th>\n",
       "      <td>...</td>\n",
       "      <td>...</td>\n",
       "      <td>...</td>\n",
       "    </tr>\n",
       "    <tr>\n",
       "      <th>12374</th>\n",
       "      <td>-3.312977</td>\n",
       "      <td>1.984733</td>\n",
       "      <td>-0.977099</td>\n",
       "    </tr>\n",
       "    <tr>\n",
       "      <th>12375</th>\n",
       "      <td>-7.282443</td>\n",
       "      <td>1.938931</td>\n",
       "      <td>-1.480916</td>\n",
       "    </tr>\n",
       "    <tr>\n",
       "      <th>12376</th>\n",
       "      <td>-8.870229</td>\n",
       "      <td>2.564886</td>\n",
       "      <td>-1.450382</td>\n",
       "    </tr>\n",
       "    <tr>\n",
       "      <th>12377</th>\n",
       "      <td>-7.129771</td>\n",
       "      <td>3.648855</td>\n",
       "      <td>-1.389313</td>\n",
       "    </tr>\n",
       "    <tr>\n",
       "      <th>12378</th>\n",
       "      <td>-4.167939</td>\n",
       "      <td>4.854962</td>\n",
       "      <td>-0.671756</td>\n",
       "    </tr>\n",
       "  </tbody>\n",
       "</table>\n",
       "<p>12379 rows × 3 columns</p>\n",
       "</div>"
      ],
      "text/plain": [
       "          GyroX     GyroY     GyroZ\n",
       "0     -3.297710  3.847328 -0.687023\n",
       "1     -3.801527  4.381680 -0.595420\n",
       "2     -3.847328  4.351145  0.045802\n",
       "3     -3.954199  4.412214  0.259542\n",
       "4     -4.167939  3.480916  0.015267\n",
       "...         ...       ...       ...\n",
       "12374 -3.312977  1.984733 -0.977099\n",
       "12375 -7.282443  1.938931 -1.480916\n",
       "12376 -8.870229  2.564886 -1.450382\n",
       "12377 -7.129771  3.648855 -1.389313\n",
       "12378 -4.167939  4.854962 -0.671756\n",
       "\n",
       "[12379 rows x 3 columns]"
      ]
     },
     "execution_count": 28,
     "metadata": {},
     "output_type": "execute_result"
    }
   ],
   "source": [
    "cs[['GyroX','GyroY','GyroZ']]"
   ]
  },
  {
   "cell_type": "markdown",
   "metadata": {
    "id": "dZywP7OOtRqc"
   },
   "source": [
    "Because this is a presentation, i figure to plot the data distribution. \n",
    "One of the plotting idea that i came out with is this below. \n",
    "If this is okay i'll copy the plot to the Mattress Supine."
   ]
  },
  {
   "cell_type": "code",
   "execution_count": 49,
   "metadata": {
    "id": "M6t3KEdotRqc",
    "outputId": "b678d390-28e4-486e-bb28-c10de7021029"
   },
   "outputs": [
    {
     "data": {
      "text/plain": [
       "<AxesSubplot:xlabel='AccX', ylabel='Count'>"
      ]
     },
     "execution_count": 49,
     "metadata": {},
     "output_type": "execute_result"
    },
    {
     "data": {
      "image/png": "[encoded data removed]",
      "text/plain": [
       "<Figure size 432x288 with 1 Axes>"
      ]
     },
     "metadata": {
      "needs_background": "light"
     },
     "output_type": "display_data"
    }
   ],
   "source": [
    "sns.histplot(cs['AccX'], kde = True)\n",
    "\n",
    "# f, (ax_box, ax_hist) = plt.subplots(2, sharex=True, gridspec_kw={\"height_ratios\": (.15, .85)})\n",
    "# sns.boxplot(cs['AccY'],ax=ax_box)\n",
    "# sns.histplot(cs['AccY'], kde = True, ax=ax_hist)\n",
    "# ax_box.set(xlabel='AccY')\n",
    "# plt.show()\n",
    "\n",
    "# f, (ax_box, ax_hist) = plt.subplots(2, sharex=True, gridspec_kw={\"height_ratios\": (.15, .85)})\n",
    "# sns.boxplot(cs['AccZ'],ax=ax_box)\n",
    "# sns.histplot(cs['AccZ'], kde = True, ax=ax_hist)\n",
    "# ax_box.set(xlabel='AccZ')\n",
    "# plt.show()"
   ]
  },
  {
   "cell_type": "markdown",
   "metadata": {},
   "source": [
    "Since we wont take the gyro, i'll just comment the codes below and leave it here in case. "
   ]
  },
  {
   "cell_type": "code",
   "execution_count": 50,
   "metadata": {
    "id": "tp4UAK31tRqc",
    "outputId": "6d886bb2-41e5-44ea-b68f-cb0413398271"
   },
   "outputs": [],
   "source": [
    "# f, (ax_box, ax_hist) = plt.subplots(2, sharex=True, gridspec_kw={\"height_ratios\": (.15, .85)})\n",
    "# sns.boxplot(cs['GyroX'],ax=ax_box)\n",
    "# sns.histplot(cs['GyroX'], kde = True, ax=ax_hist)\n",
    "# ax_box.set(xlabel='GyroX')\n",
    "# plt.show()\n",
    "\n",
    "# f, (ax_box, ax_hist) = plt.subplots(2, sharex=True, gridspec_kw={\"height_ratios\": (.15, .85)})\n",
    "# sns.boxplot(cs['GyroY'],ax=ax_box)\n",
    "# sns.histplot(cs['GyroY'], kde = True, ax=ax_hist)\n",
    "# ax_box.set(xlabel='GyroY')\n",
    "# plt.show()\n",
    "\n",
    "# f, (ax_box, ax_hist) = plt.subplots(2, sharex=True, gridspec_kw={\"height_ratios\": (.15, .85)})\n",
    "# sns.boxplot(cs['GyroZ'],ax=ax_box)\n",
    "# sns.histplot(cs['GyroZ'], kde = True, ax=ax_hist)\n",
    "# ax_box.set(xlabel='GyroZ')\n",
    "# plt.show()"
   ]
  },
  {
   "cell_type": "code",
   "execution_count": 34,
   "metadata": {},
   "outputs": [],
   "source": []
  },
  {
   "cell_type": "markdown",
   "metadata": {
    "id": "JDf0nxT_JYGW"
   },
   "source": [
    "# FFT Center Sternum"
   ]
  },
  {
   "cell_type": "markdown",
   "metadata": {
    "id": "_idV4hjdtRqd"
   },
   "source": [
    "2.2. Fourier Analysis: Perform a frequency analysis of the data. Look at the spectrum and explain what you see. Use this step in order to properly design the filters in the following step.\n",
    "\n"
   ]
  },
  {
   "cell_type": "markdown",
   "metadata": {
    "id": "SOnrvs9utRqd"
   },
   "source": [
    "My current understanding about the FFT: \n",
    "1. If we find the FFT with maximum amplitude in all positive domain, we will get the \"envelope\"/prominent frequency (wording envelope a bit sketchy) and it is a low freq 0.008\n",
    "2. Our BPM freq is not the most prominent one so I looked out for our BPM around heart beat freq range which is 40 - 100 BPM\n",
    "3. For next task filtering, maybe we can filter around 40 - 100 BPM maybe?"
   ]
  },
  {
   "cell_type": "code",
   "execution_count": 35,
   "metadata": {},
   "outputs": [],
   "source": [
    "cs_accx = cs['AccX']"
   ]
  },
  {
   "cell_type": "code",
   "execution_count": 57,
   "metadata": {
    "id": "nhJ6SzjvtRqd",
    "outputId": "dfb5d43e-3af1-4c7f-cd6d-87faf67c5256"
   },
   "outputs": [
    {
     "name": "stdout",
     "output_type": "stream",
     "text": [
      "Signal size: 12379\n",
      "Peak Freq in range of 40BPM to 100 BPM is  1.163260360287584 Beat per Sec\n",
      "In BPM is 69.79562161725504\n"
     ]
    },
    {
     "data": {
      "image/png": "[encoded data removed]",
      "text/plain": [
       "<Figure size 432x360 with 1 Axes>"
      ]
     },
     "metadata": {
      "needs_background": "light"
     },
     "output_type": "display_data"
    }
   ],
   "source": [
    "# The FFT of the signal X around the area of heart beat frequencies\n",
    "cs_AccX = np.asarray(cs['AccX'])\n",
    "\n",
    "sig_fft_x = fftpack.fft(cs_AccX)\n",
    "print(\"Signal size:\",cs_AccX.size)\n",
    "# And the power (sig_fft is of complex dtype)\n",
    "power = np.abs(sig_fft_x)\n",
    "\n",
    "timestep = 1/200\n",
    "# The corresponding frequencies\n",
    "sample_freq_x = fftpack.fftfreq(cs_AccX.size, d=timestep)\n",
    "#print(sample_freq)\n",
    "\n",
    "# Adjust mask to freq of heart beat (40bpm and  100 bpm) translate it to sec\n",
    "pos_mask = np.where((40/60 <= sample_freq_x) & (sample_freq_x <= 100/60) )\n",
    "# pos_mask = np.where(sample_freq > 0)\n",
    "freqs_x = sample_freq_x[pos_mask]\n",
    "peak_freq_x = freqs_x[power[pos_mask].argmax()]\n",
    "\n",
    "# Plot the FFT power\n",
    "plt.figure(figsize=(6, 5))\n",
    "plt.plot(freqs_x, power[pos_mask])\n",
    "plt.xlabel('Frequency [Hz]')\n",
    "plt.ylabel('power')\n",
    "plt.axvline(peak_freq_x, color='red')\n",
    "\n",
    "print(\"Peak Freq in range of 40BPM to 100 BPM is \", peak_freq_x , \"Beat per Sec\")\n",
    "print(\"In BPM is\", peak_freq_x*60)"
   ]
  },
  {
   "cell_type": "markdown",
   "metadata": {
    "id": "oMXZcaHttRqd"
   },
   "source": [
    "Prev, with only Z, maybe our patience BPM around 68.8. \n",
    "Now with X only, 69.79 BPM"
   ]
  },
  {
   "cell_type": "code",
   "execution_count": 59,
   "metadata": {
    "id": "2K63fArbtRqd",
    "outputId": "6f2d30a2-14a1-46c9-d7b1-27e3a4dea41d"
   },
   "outputs": [
    {
     "name": "stdout",
     "output_type": "stream",
     "text": [
      "Invert FFT if we cut out freq bigger than our peak freq\n"
     ]
    },
    {
     "data": {
      "image/png": "[encoded data removed]",
      "text/plain": [
       "<Figure size 720x576 with 1 Axes>"
      ]
     },
     "metadata": {
      "needs_background": "light"
     },
     "output_type": "display_data"
    }
   ],
   "source": [
    "high_freq_fft_x = sig_fft_x.copy()\n",
    "high_freq_fft_x[(np.abs(sample_freq_x) >= peak_freq)] = 0\n",
    "filtered_sig_x = fftpack.ifft(high_freq_fft_x).real\n",
    "\n",
    "\n",
    "plt.figure(figsize=(10, 8))\n",
    "plt.plot(cs['Time'], cs_AccX, label='Original signal')\n",
    "plt.plot(cs['Time'], filtered_sig_x, linewidth=3, label='Filtered signal')\n",
    "plt.xlabel('Time [s]')\n",
    "plt.ylabel('CS_ACCX')\n",
    "\n",
    "plt.legend(loc='best')\n",
    "print(\"Invert FFT if we cut out freq bigger than our peak freq\")"
   ]
  },
  {
   "cell_type": "code",
   "execution_count": 68,
   "metadata": {
    "id": "iDT8kRTwtRqd",
    "outputId": "3b69ed7b-b960-4e18-8786-1ffd7c2cc572"
   },
   "outputs": [
    {
     "data": {
      "text/plain": [
       "Text(0, 0.5, 'CS_ACCX')"
      ]
     },
     "execution_count": 68,
     "metadata": {},
     "output_type": "execute_result"
    },
    {
     "data": {
      "image/png": "[encoded data removed]",
      "text/plain": [
       "<Figure size 432x288 with 1 Axes>"
      ]
     },
     "metadata": {
      "needs_background": "light"
     },
     "output_type": "display_data"
    }
   ],
   "source": [
    "# Freq between 40BPM to 100 BPM\n",
    "blocked_freq_fft_x = sig_fft_x.copy()\n",
    "blocked_freq_fft_x[(np.abs(sample_freq_x) >= 100/60)] = 0\n",
    "blocked_freq_fft_x[(np.abs(sample_freq_x) <= 40/60)] = 0\n",
    "\n",
    "filter_sigs_x = fftpack.ifft(blocked_freq_fft_x).real\n",
    "\n",
    "plt.plot(cs['Time'], filter_sigs_x, linewidth=1, label='Filtered signal')\n",
    "plt.xlabel('Time [s]')\n",
    "plt.ylabel('CS_ACCX')"
   ]
  },
  {
   "cell_type": "markdown",
   "metadata": {
    "id": "pJpDLJgwJYGW"
   },
   "source": [
    "# Mattress data to be analysed here"
   ]
  },
  {
   "cell_type": "code",
   "execution_count": 39,
   "metadata": {
    "id": "EzlzQsunJYGX"
   },
   "outputs": [],
   "source": [
    "### README5 smth mattress data\n",
    "acc_offsets5 = np.array([3.602701, -20.96658, 54.97186])\n",
    "ms['AccX'] += acc_offsets5[0]\n",
    "ms['AccY'] += acc_offsets5[1]\n",
    "ms['AccZ'] += acc_offsets5[2]"
   ]
  },
  {
   "cell_type": "code",
   "execution_count": null,
   "metadata": {
    "id": "B9-HDN_BtRqe",
    "outputId": "e48d650e-3e16-4a4e-b1ed-0747e3358e8d"
   },
   "outputs": [],
   "source": [
    "display(ms)"
   ]
  },
  {
   "cell_type": "code",
   "execution_count": null,
   "metadata": {
    "id": "W6i6NF-_JYGX",
    "outputId": "f08bb897-84ad-490c-b2f5-df5ce98731f9"
   },
   "outputs": [],
   "source": [
    "fig, ax = plt.subplots(2,1)\n",
    "fig.set_figheight(15)\n",
    "fig.set_figwidth(15)\n",
    "\n",
    "down_limit = 0.1*max(ms['Time']) #I was exploring it visually with step 0.05\n",
    "up_limit = 0.85*max(ms['Time'])\n",
    "fill0 = np.arange(-1200,300)  #y range of the highlited visual aid for fig 0\n",
    "fill1 = np.arange(-25,25) #y range of the highlited visual aid for fig 1\n",
    "\n",
    "ax[0].plot(ms['Time'], ms['AccX'], label='X')\n",
    "ax[0].plot(ms['Time'], ms['AccY'], label='Y')\n",
    "ax[0].plot(ms['Time'], ms['AccZ'], label='Z')\n",
    "ax[0].set_xlim(min(ms['Time']),max(ms['Time']))\n",
    "ax[0].set_xlabel('Time, s', fontsize=14)\n",
    "ax[0].set_ylabel('Acceleration, mg', fontsize=14)\n",
    "ax[0].axvline(down_limit, color='red')\n",
    "ax[0].axvline(up_limit, color='red')\n",
    "ax[0].legend()\n",
    "ax[0].grid()\n",
    "ax[0].fill_betweenx(fill0,down_limit,up_limit, color='blue', alpha =0.2)\n",
    "\n",
    "\n",
    "ax[1].plot(ms['Time'], ms['GyroX'], label='X')\n",
    "ax[1].plot(ms['Time'], ms['GyroY'], label='Y')\n",
    "ax[1].plot(ms['Time'], ms['GyroZ'], label='Z')\n",
    "ax[1].set_xlim(min(ms['Time']),max(ms['Time']))\n",
    "ax[1].set_xlabel('Time, s', fontsize=14)\n",
    "ax[1].set_ylabel('Angular velocity, dps', fontsize=14)\n",
    "ax[1].axvline(down_limit, color='red')\n",
    "ax[1].axvline(up_limit, color='red')\n",
    "ax[1].grid()\n",
    "ax[1].fill_betweenx(fill1,down_limit,up_limit, color='blue', alpha =0.2)\n"
   ]
  },
  {
   "cell_type": "code",
   "execution_count": null,
   "metadata": {
    "id": "efk-RRzFtRqe",
    "outputId": "f1b3570a-4fd2-4ca5-917c-5836a24db00e"
   },
   "outputs": [],
   "source": [
    "#dropping data\n",
    "\n",
    "ms.drop(ms[ ms['Time']<= down_limit].index, inplace=True)\n",
    "ms.drop(ms[ ms['Time']>= up_limit].index, inplace=True)\n",
    "ms"
   ]
  },
  {
   "cell_type": "markdown",
   "metadata": {
    "id": "U2l-o2pttRqe"
   },
   "source": [
    "# Analysis of Acc_Z Mattress Supine"
   ]
  },
  {
   "cell_type": "code",
   "execution_count": null,
   "metadata": {
    "id": "z7pJNs-UtRqe",
    "outputId": "bfc8338e-5a16-47e0-f1bd-0aca1f455335"
   },
   "outputs": [],
   "source": [
    "#statistical analysis of acc_z\n",
    "\n",
    "plt.figure(figsize=(20,5))\n",
    "plt.plot(ms['Time'], ms['AccZ'])\n",
    "plt.xlim(min(ms['Time']),max(ms['Time']))\n",
    "plt.xlabel('Time, s', fontsize=14)\n",
    "plt.ylabel('Acceleration, mg', fontsize=14)"
   ]
  },
  {
   "cell_type": "markdown",
   "metadata": {
    "id": "iw4_E1AvtRqe"
   },
   "source": [
    "# All data statistical quantities"
   ]
  },
  {
   "cell_type": "code",
   "execution_count": null,
   "metadata": {
    "id": "LG7i_2DetRqe",
    "outputId": "417b85ae-3a8e-45ba-9662-f9545df75b16"
   },
   "outputs": [],
   "source": [
    "stq = pd.DataFrame({'mean': ms.mean(),\n",
    "                   'median': ms.median(),\n",
    "                   'variance': ms.var(),\n",
    "                   'standard deviation': ms.std(),\n",
    "                   '25th percentile': ms.quantile(q=0.25),\n",
    "                   '75th percentiles': ms.quantile(q=0.75)})\n",
    "display(stq)"
   ]
  },
  {
   "cell_type": "code",
   "execution_count": null,
   "metadata": {
    "id": "Wyf7uHR3tRqe",
    "outputId": "6640dea8-29fe-4635-bbbc-6427d4018813"
   },
   "outputs": [],
   "source": [
    "ms.corr()"
   ]
  },
  {
   "cell_type": "markdown",
   "metadata": {
    "id": "gQp0PBCEtRqe"
   },
   "source": [
    "# FFT Mattress Supine"
   ]
  },
  {
   "cell_type": "code",
   "execution_count": null,
   "metadata": {
    "id": "1oMgVRX-tRqf",
    "outputId": "41d4f6e2-8bfe-4ef4-d47e-8dccfd2d95bf"
   },
   "outputs": [],
   "source": [
    "from scipy import fftpack\n",
    "\n",
    "timestep = 0.01\n",
    "ms_AccZ = np.asarray(ms['AccZ'])\n",
    "ms_AccZ_fft = np.abs(fftpack.fft(ms_AccZ))\n",
    "ms_AccZ_freq = fftpack.fftfreq(ms_AccZ.size, d=timestep)\n",
    "plt.figure(figsize=(10, 8))\n",
    "plt.plot(ms_AccZ_freq, ms_AccZ_fft)\n",
    "\n",
    "\n",
    "pos_mask = np.where(ms_AccZ_freq > 0)\n",
    "freq_Z1 = ms_AccZ_freq[pos_mask]\n",
    "peak_freq = freq_Z1[ms_AccZ_fft[pos_mask].argmax()]\n",
    "print(peak_freq)\n",
    "\n",
    "\n",
    "axes = plt.axes([0.55, 0.3, 0.3, 0.5])\n",
    "plt.title('Peak frequency')\n",
    "plt.plot(ms_AccZ_freq[:5], ms_AccZ_fft[:5]) #Idk here how to plot in ok way our peak\n",
    "plt.setp(axes, yticks=[])\n"
   ]
  },
  {
   "cell_type": "code",
   "execution_count": null,
   "metadata": {
    "id": "Z2K7Tq9NtRqf",
    "outputId": "969e9e1e-0f39-48b1-c39c-bce673f4953a"
   },
   "outputs": [],
   "source": [
    "# The FFT of the signal Z around the area of heart beat frequencies\n",
    "sig_fft_ms = fftpack.fft(ms_AccZ)\n",
    "print(\"Signal size:\",ms_AccZ.size)\n",
    "# And the power (sig_fft is of complex dtype)\n",
    "powerz = np.abs(sig_fft_ms)\n",
    "\n",
    "timestep = 1/200\n",
    "# The corresponding frequencies\n",
    "sample_freq_msz = fftpack.fftfreq(ms_AccZ.size, d=timestep)\n",
    "#print(sample_freq)\n",
    "\n",
    "# Adjust mask to freq of heart beat (30bpm and  120 bpm) translate it to sec\n",
    "pos_mask_msz = np.where((30/60 <= sample_freq_msz) & (sample_freq_msz <= 120/60) )\n",
    "# pos_mask = np.where(sample_freq > 0)\n",
    "freqs_msz = sample_freq_msz[pos_mask_msz]\n",
    "peak_freq_msz = freqs_msz[powerz[pos_mask_msz].argmax()]\n",
    "\n",
    "\n",
    "# Plot the FFT power\n",
    "plt.figure(figsize=(6, 5))\n",
    "plt.plot(freqs_msz, powerz[pos_mask_msz])\n",
    "plt.xlabel('Frequency [Hz]')\n",
    "plt.ylabel('power')\n",
    "plt.axvline(peak_freq_msz, color='red')\n",
    "\n",
    "print(\"Peak Freq in range of 40BPM to 100 BPM is \", peak_freq_msz , \"Beat per Sec\")\n",
    "print(\"In BPM is\", peak_freq_msz*60)"
   ]
  },
  {
   "cell_type": "code",
   "execution_count": null,
   "metadata": {
    "id": "zr_9Q8IutRqf",
    "outputId": "5d957119-a565-4af8-f904-911d57dc2b6f"
   },
   "outputs": [],
   "source": [
    "high_freq_fft = sig_fft_ms.copy()\n",
    "high_freq_fft[np.abs(sample_freq_msz) >= peak_freq_msz] = 0\n",
    "filtered_sig_msz = fftpack.ifft(high_freq_fft)\n",
    "\n",
    "\n",
    "plt.figure(figsize=(10, 8))\n",
    "plt.plot(ms['Time'], ms_AccZ, label='Original signal')\n",
    "plt.plot(ms['Time'], filtered_sig_msz, linewidth=3, label='Filtered signal')\n",
    "plt.xlabel('Time [s]')\n",
    "plt.ylabel('AccZ- MS')\n",
    "\n",
    "plt.legend(loc='best')\n",
    "print(\"Invert FFT if we cut out freq bigger than our peak freq\")"
   ]
  },
  {
   "cell_type": "markdown",
   "metadata": {
    "id": "L0TKYb1ztRqf"
   },
   "source": [
    "idk why the mattress data and center sternum data FFT is very similar, i expected a bit differences but not sure so far "
   ]
  },
  {
   "cell_type": "code",
   "execution_count": null,
   "metadata": {
    "id": "V_x4WoBAtRqf"
   },
   "outputs": [],
   "source": []
  }
 ],
 "metadata": {
  "colab": {
   "provenance": []
  },
  "kernelspec": {
   "display_name": "Python 3 (ipykernel)",
   "language": "python",
   "name": "python3"
  },
  "language_info": {
   "codemirror_mode": {
    "name": "ipython",
    "version": 3
   },
   "file_extension": ".py",
   "mimetype": "text/x-python",
   "name": "python",
   "nbconvert_exporter": "python",
   "pygments_lexer": "ipython3",
   "version": "3.9.12"
  }
 },
 "nbformat": 4,
 "nbformat_minor": 1
}
